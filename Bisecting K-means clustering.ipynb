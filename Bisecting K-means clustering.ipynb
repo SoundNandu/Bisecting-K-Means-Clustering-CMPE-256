{
 "cells": [
  {
   "cell_type": "code",
   "execution_count": 1,
   "metadata": {
    "collapsed": true
   },
   "outputs": [],
   "source": [
    "import numpy as np\n",
    "import pandas as pd\n",
    "from scipy.sparse import csr_matrix\n",
    "import random as rm"
   ]
  },
  {
   "cell_type": "code",
   "execution_count": 2,
   "metadata": {
    "collapsed": true
   },
   "outputs": [],
   "source": [
    "def csr_read(fname, ftype=\"csr\", nidx=1):\n",
    "    r\"\"\" \n",
    "        Read CSR matrix from a text file. \n",
    "        \n",
    "        \\param fname File name for CSR/CLU matrix\n",
    "        \\param ftype Input format. Acceptable formats are:\n",
    "            - csr - Compressed sparse row\n",
    "            - clu - Cluto format, i.e., CSR + header row with \"nrows ncols nnz\"\n",
    "        \\param nidx Indexing type in CSR file. What does numbering of feature IDs start with?\n",
    "    \"\"\"\n",
    "    \n",
    "    with open(fname) as f:\n",
    "        lines = f.readlines()\n",
    "    \n",
    "    if ftype == \"clu\":\n",
    "        p = lines[0].split()\n",
    "        nrows = int(p[0])\n",
    "        ncols = int(p[1])\n",
    "        nnz = long(p[2])\n",
    "        lines = lines[1:]\n",
    "        assert(len(lines) == nrows)\n",
    "    elif ftype == \"csr\":\n",
    "        nrows = len(lines)\n",
    "        ncols = 0 \n",
    "        nnz = 0 \n",
    "        for i in xrange(nrows):\n",
    "            p = lines[i].split()\n",
    "            if len(p) % 2 != 0:\n",
    "                raise ValueError(\"Invalid CSR matrix. Row %d contains %d numbers.\" % (i, len(p)))\n",
    "            nnz += len(p)/2\n",
    "            for j in xrange(0, len(p), 2): \n",
    "                cid = int(p[j]) - nidx\n",
    "                if cid+1 > ncols:\n",
    "                    ncols = cid+1\n",
    "    else:\n",
    "        raise ValueError(\"Invalid sparse matrix ftype '%s'.\" % ftype)\n",
    "    val = np.zeros(nnz, dtype=np.float)\n",
    "    ind = np.zeros(nnz, dtype=np.int)\n",
    "    ptr = np.zeros(nrows+1, dtype=np.long)\n",
    "    n = 0 \n",
    "    for i in xrange(nrows):\n",
    "        p = lines[i].split()\n",
    "        for j in xrange(0, len(p), 2): \n",
    "            ind[n] = int(p[j]) - nidx\n",
    "            val[n] = float(p[j+1])\n",
    "            n += 1\n",
    "        ptr[i+1] = n \n",
    "    \n",
    "    assert(n == nnz)\n",
    "    \n",
    "    return csr_matrix((val, ind, ptr), shape=(nrows, ncols), dtype=np.float)"
   ]
  },
  {
   "cell_type": "code",
   "execution_count": 3,
   "metadata": {
    "collapsed": true
   },
   "outputs": [],
   "source": [
    "filename = \"train.dat\"\n",
    "text_csr = csr_read(filename)"
   ]
  },
  {
   "cell_type": "code",
   "execution_count": 4,
   "metadata": {
    "collapsed": true
   },
   "outputs": [],
   "source": [
    "#dense_matrix = csr_matrix.todense(text_csr)"
   ]
  },
  {
   "cell_type": "code",
   "execution_count": 5,
   "metadata": {
    "collapsed": true
   },
   "outputs": [],
   "source": [
    "#print dense_matrix.shape\n"
   ]
  },
  {
   "cell_type": "code",
   "execution_count": 6,
   "metadata": {
    "collapsed": true
   },
   "outputs": [],
   "source": [
    "from sklearn.feature_extraction.text import TfidfTransformer\n",
    "idft = TfidfTransformer(norm=None)\n",
    "idfmatrix = idft.fit_transform(text_csr)"
   ]
  },
  {
   "cell_type": "code",
   "execution_count": 7,
   "metadata": {
    "collapsed": true
   },
   "outputs": [],
   "source": [
    "denseidf = csr_matrix.todense(idfmatrix)"
   ]
  },
  {
   "cell_type": "code",
   "execution_count": 8,
   "metadata": {},
   "outputs": [
    {
     "name": "stdout",
     "output_type": "stream",
     "text": [
      "(8580, 126355)\n"
     ]
    }
   ],
   "source": [
    "print denseidf.shape"
   ]
  },
  {
   "cell_type": "code",
   "execution_count": 9,
   "metadata": {
    "collapsed": true
   },
   "outputs": [],
   "source": [
    "#from sklearn.decomposition import TruncatedSVD\n",
    "#svd = TruncatedSVD(n_components=4000)\n",
    "#reducedm = svd.fit_transform(idfmatrix)"
   ]
  },
  {
   "cell_type": "code",
   "execution_count": 10,
   "metadata": {
    "collapsed": true
   },
   "outputs": [],
   "source": [
    "#print(svd.explained_variance_ratio_)\n",
    "#print(svd.explained_variance_ratio_.sum())"
   ]
  },
  {
   "cell_type": "code",
   "execution_count": 11,
   "metadata": {
    "collapsed": true
   },
   "outputs": [],
   "source": [
    "#from sklearn.externals import joblib\n",
    "#fileObject = open('../pickle/idfmatrix.pickle','wb')\n",
    "#joblib.dump(idfmatrix, fileObject)\n",
    "#fileObject.close()"
   ]
  },
  {
   "cell_type": "code",
   "execution_count": 12,
   "metadata": {
    "collapsed": true
   },
   "outputs": [],
   "source": [
    "#read code\n",
    "#fileObject = open('../pickle/idfmatrix.pickle','rb')\n",
    "#idfmatrix = joblib.load(fileObject)\n",
    "#fileObject.close()"
   ]
  },
  {
   "cell_type": "code",
   "execution_count": 13,
   "metadata": {
    "collapsed": true
   },
   "outputs": [],
   "source": [
    "#from sklearn.externals import joblib\n",
    "#fileObject = open('../pickle/actualreducedMwithoutnormalisation.pickle','wb')\n",
    "#joblib.dump(reducedm, fileObject)\n",
    "#fileObject.close()"
   ]
  },
  {
   "cell_type": "code",
   "execution_count": 14,
   "metadata": {
    "collapsed": true
   },
   "outputs": [],
   "source": [
    "#readcode\n",
    "#fileObject = open('../pickle/aactualreducedMwithoutnormalisation.pickle','rb')\n",
    "#reducedm = joblib.load(fileObject)\n",
    "#fileObject.close()"
   ]
  },
  {
   "cell_type": "code",
   "execution_count": 15,
   "metadata": {
    "collapsed": true
   },
   "outputs": [],
   "source": [
    "from sklearn.preprocessing import normalize\n",
    "#normalizedReduced=normalize(reducedm, norm='l2')"
   ]
  },
  {
   "cell_type": "code",
   "execution_count": 16,
   "metadata": {
    "collapsed": true
   },
   "outputs": [],
   "source": [
    "normalizedwithoutReducing = normalize(idfmatrix, norm='l2')"
   ]
  },
  {
   "cell_type": "code",
   "execution_count": 17,
   "metadata": {
    "collapsed": true
   },
   "outputs": [],
   "source": [
    "densenormalizedwithoutReducing = csr_matrix.todense(normalizedwithoutReducing)"
   ]
  },
  {
   "cell_type": "code",
   "execution_count": 18,
   "metadata": {},
   "outputs": [
    {
     "name": "stdout",
     "output_type": "stream",
     "text": [
      "(8580, 126355)\n"
     ]
    }
   ],
   "source": [
    "print densenormalizedwithoutReducing.shape"
   ]
  },
  {
   "cell_type": "code",
   "execution_count": 19,
   "metadata": {
    "collapsed": true
   },
   "outputs": [],
   "source": [
    "densenormalizedwithoutReducing = np.asarray(densenormalizedwithoutReducing)\n",
    "denseidf = np.asarray(denseidf)"
   ]
  },
  {
   "cell_type": "code",
   "execution_count": 20,
   "metadata": {},
   "outputs": [
    {
     "name": "stdout",
     "output_type": "stream",
     "text": [
      "<type 'numpy.ndarray'>\n",
      "<type 'numpy.ndarray'>\n"
     ]
    }
   ],
   "source": [
    "print type (densenormalizedwithoutReducing)\n",
    "print type (denseidf)"
   ]
  },
  {
   "cell_type": "code",
   "execution_count": 21,
   "metadata": {},
   "outputs": [
    {
     "name": "stdout",
     "output_type": "stream",
     "text": [
      "[ 0.  0.  0. ...,  0.  0.  0.]\n",
      "[ 0.  0.  0. ...,  0.  0.  0.]\n"
     ]
    }
   ],
   "source": [
    "print densenormalizedwithoutReducing[0]\n",
    "print denseidf[0]"
   ]
  },
  {
   "cell_type": "code",
   "execution_count": 22,
   "metadata": {
    "collapsed": true
   },
   "outputs": [],
   "source": [
    "def k2_means(denseidf,densenormalizedwithoutReducing,centroid1=None,centroid2=None,iter=20):\n",
    "    if type(centroid1)!=np.ndarray or type(centroid2)!=np.ndarray:\n",
    "        #print \"here\"\n",
    "        cent1=0\n",
    "        cent2=0\n",
    "        num = denseidf.shape[0]-1\n",
    "        while (cent1==cent2):\n",
    "            cent1 = rm.randint(0, num)\n",
    "            cent2 = rm.randint(0, num)\n",
    "            #print normalizedwithoutReducing[cent1],cent2\n",
    "        centroid1 = np.array(densenormalizedwithoutReducing[cent1])\n",
    "        centroid2 = np.array(densenormalizedwithoutReducing[cent2])\n",
    "        centroidarray = np.append([centroid1],[centroid2], axis=0)\n",
    "        #print centroid1.shape\n",
    "        \n",
    "    else:\n",
    "        centroidarray = np.append([centroid1],[centroid2], axis=0)\n",
    "        #print centroidarray.shape\n",
    "        \n",
    "    centroidcosineArray = densenormalizedwithoutReducing.dot(centroidarray.T)\n",
    "    \n",
    "    i=0\n",
    "    cluster=[]\n",
    "    newcentroid1_points = 0\n",
    "    newcentroid2_points = 0\n",
    "    newcentroid1_sum = np.zeros(shape=[1,126355])\n",
    "    newcentroid2_sum = np.zeros(shape=[1,126355])\n",
    "    newcentroid1_mean = np.zeros(shape=[1,126355])\n",
    "    newcentroid2_mean = np.zeros(shape=[1,126355])\n",
    "    newcentroid1_mean_norm = np.zeros(shape=[1,126355])\n",
    "    newcentroid2_mean_norm = np.zeros(shape=[1,126355])\n",
    "    \n",
    "    for item in centroidcosineArray:\n",
    "        if item[0]>item[1]:\n",
    "            newcentroid1_points+=1\n",
    "            newcentroid1_sum = newcentroid1_sum+denseidf[i]\n",
    "            cluster.append(1)\n",
    "        else:\n",
    "            newcentroid2_points+=1\n",
    "            newcentroid2_sum = newcentroid2_sum+denseidf[i]\n",
    "            cluster.append(2)\n",
    "        i+=1\n",
    "    #print newcentroid1_points,newcentroid2_points\n",
    "    \n",
    "    newcentroid1_mean = newcentroid1_sum/newcentroid1_points\n",
    "    newcentroid2_mean = newcentroid2_sum/newcentroid2_points\n",
    "    \n",
    "    newcentroid1_mean_norm=normalize(newcentroid1_mean, norm='l2')\n",
    "    newcentroid2_mean_norm=normalize(newcentroid2_mean, norm='l2')\n",
    "    \n",
    "    #print newcentroid1_mean[0],centroid1\n",
    "    \n",
    "    comp1 = newcentroid1_mean_norm[0].dot(centroid1.T)\n",
    "    comp2 = newcentroid2_mean_norm[0].dot(centroid2.T)\n",
    "    \n",
    "    if (comp1>=0.99 and comp2>=0.99) or iter==0:\n",
    "        #print cluster\n",
    "        print iter,comp1,comp2,newcentroid1_points,newcentroid2_points\n",
    "        return cluster,newcentroid1_mean_norm,newcentroid2_mean_norm\n",
    "    else:\n",
    "        print iter,comp1,comp2,newcentroid1_points,newcentroid2_points\n",
    "        iter-=1\n",
    "        return k2_means(denseidf,densenormalizedwithoutReducing,newcentroid1_mean_norm[0],newcentroid2_mean_norm[0],iter)\n",
    "     "
   ]
  },
  {
   "cell_type": "code",
   "execution_count": 103,
   "metadata": {},
   "outputs": [
    {
     "name": "stdout",
     "output_type": "stream",
     "text": [
      "20 0.193426225197 0.210376433635 3597 4983\n",
      "19 0.975277707096 0.967001464175 4526 4054\n",
      "18 0.993039186333 0.991459435976 4627 3953\n"
     ]
    }
   ],
   "source": [
    "clusterresult,newcentroid1_mean_norm,newcentroid2_mean_norm = k2_means(denseidf,densenormalizedwithoutReducing)"
   ]
  },
  {
   "cell_type": "code",
   "execution_count": 147,
   "metadata": {},
   "outputs": [
    {
     "name": "stdout",
     "output_type": "stream",
     "text": [
      "[ 0.  0.  0. ...,  0.  0.  0.]\n"
     ]
    }
   ],
   "source": [
    "print densenormalizedwithoutReducing[0]"
   ]
  },
  {
   "cell_type": "code",
   "execution_count": 104,
   "metadata": {},
   "outputs": [
    {
     "name": "stdout",
     "output_type": "stream",
     "text": [
      "k 0\n",
      "4627 3953\n",
      "[ 0.18776543] [ 0.23814188]\n",
      "[array([ 0.23814188])]\n",
      "1\n",
      "i 0\n",
      "here1\n",
      "20 0.385899655657 0.21512182905 1281 3346\n",
      "19 0.96595103494 0.99747315556 973 3654\n",
      "18 0.996940544196 0.999716303783 889 3738\n",
      "k 1\n",
      "889 3738\n",
      "[ 0.11548834] [ 0.14785132]\n",
      "[array([ 0.23814188]), array([ 0.14785132])]\n",
      "2\n",
      "i 1\n",
      "here1\n",
      "20 0.167220677231 0.116669785473 488 401\n",
      "19 0.965859908228 0.975244724093 428 461\n",
      "18 0.971816923176 0.974509693366 367 522\n",
      "17 0.989422920136 0.993911392666 304 585\n",
      "16 0.991791312022 0.996054284978 249 640\n",
      "k 2\n",
      "249 640\n",
      "[ 0.07522827] [ 0.19810195]\n",
      "[array([ 0.23814188]), 1, array([ 0.19810195])]\n",
      "3\n",
      "i 2\n",
      "here1\n",
      "20 0.443536150841 0.347488868495 153 96\n",
      "19 0.981147643248 0.969092746985 110 139\n",
      "18 0.99463363129 0.993707621489 94 155\n",
      "k 3\n",
      "94 155\n",
      "[ 0.15945624] [ 0.19472829]\n",
      "[array([ 0.23814188]), 1, 1, array([ 0.19472829])]\n",
      "4\n",
      "i 3\n",
      "here1\n",
      "20 0.279694101535 0.27810881164 51 43\n",
      "19 0.985119461547 0.990579980286 53 41\n",
      "18 1.0 1.0 53 41\n",
      "k 4\n",
      "53 41\n",
      "[ 0.29298126] [ 0.08430413]\n",
      "[array([ 0.23814188]), 1, 1, 1, array([ 0.29298126])]\n",
      "5\n",
      "i 0\n",
      "here4\n",
      "20 0.332037327808 0.424878525849 972 2981\n",
      "19 0.967133943297 0.977013587435 1510 2443\n",
      "18 0.999194792674 0.999651631339 1555 2398\n",
      "k 5\n",
      "1555 2398\n",
      "[ 0.14078928] [ 0.24776549]\n",
      "[1, 1, 1, 1, array([ 0.29298126]), array([ 0.24776549])]\n",
      "6\n",
      "i 5\n",
      "here1\n",
      "20 0.197724636167 0.347274334411 396 1159\n",
      "19 0.972368439887 0.986033713103 547 1008\n",
      "18 0.99489021314 0.997933488034 569 986\n",
      "k 6\n",
      "569 986\n",
      "[ 0.11886216] [ 0.2260259]\n",
      "[1, 1, 1, 1, array([ 0.29298126]), 1, array([ 0.2260259])]\n",
      "7\n",
      "i 6\n",
      "here1\n",
      "20 0.282986897465 0.287431016302 415 154\n",
      "19 0.994272092321 0.978522911806 364 205\n",
      "18 0.997723236039 0.99279798 339 230\n"
     ]
    }
   ],
   "source": [
    "from collections import defaultdict\n",
    "memoryrowsdict={}\n",
    "scores=[]\n",
    "flag=0\n",
    "odd=1\n",
    "even=0\n",
    "sent0=0\n",
    "sentlist=[]\n",
    "sentlist1 = defaultdict(list)\n",
    "positionofsent=0\n",
    "for kbisect in range(7):\n",
    "    print \"k\",kbisect\n",
    "    list1_for_memlist=[]\n",
    "    list2_for_memlist=[]\n",
    "    list2=[]\n",
    "    list22=[]\n",
    "    list1=[]\n",
    "    list11=[]\n",
    "    sum1=0\n",
    "    count1=0\n",
    "    sum2=0\n",
    "    count2=0\n",
    "    i=0\n",
    "    for items in clusterresult:\n",
    "            if items==1:\n",
    "                count1+=1\n",
    "                sum1 = sum1+(densenormalizedwithoutReducing[i].dot(newcentroid1_mean_norm.T))\n",
    "                list1.append(densenormalizedwithoutReducing[i])\n",
    "                list11.append(denseidf[i])\n",
    "                if kbisect==0:\n",
    "                    list1_for_memlist.append(i)\n",
    "                else:\n",
    "                    if flag==1:\n",
    "                        list1_for_memlist.append(memoryrowsdict[positionofsent][0][i])\n",
    "                    else:\n",
    "                        list1_for_memlist.append(memoryrowsdict[positionofsent][3][i])\n",
    "\n",
    "            else:\n",
    "                count2+=1\n",
    "                sum2 = sum2+densenormalizedwithoutReducing[i].dot(newcentroid2_mean_norm.T)\n",
    "                list2.append(densenormalizedwithoutReducing[i])\n",
    "                list22.append(denseidf[i])\n",
    "                if kbisect==0:\n",
    "                    list2_for_memlist.append(i)\n",
    "                else:\n",
    "                    if flag==1:\n",
    "                        list2_for_memlist.append(memoryrowsdict[positionofsent][0][i])\n",
    "                    else:\n",
    "                        list2_for_memlist.append(memoryrowsdict[positionofsent][3][i])\n",
    "            i+=1\n",
    "    print len(list1_for_memlist),len(list2_for_memlist)\n",
    "    avg1 = sum1/count1\n",
    "    avg2 = sum2/count2\n",
    "    print avg1,avg2\n",
    "    memoryrowsdict[kbisect]=[list2_for_memlist,list22,list2,list1_for_memlist,list11,list1]\n",
    "    #print memoryrowsdict[0][0][0],memoryrowsdict[0][1][0],memoryrowsdict[0][2][0],memoryrowsdict[0][3][0],memoryrowsdict[0][4][0],memoryrowsdict[0][5][0]\n",
    "    if avg1<avg2:\n",
    "        scores.append(avg2)\n",
    "        index_min = min(xrange(len(scores)), key=scores.__getitem__)\n",
    "        print scores\n",
    "        print len(scores)\n",
    "        print \"i\",index_min\n",
    "        positionofsent=index_min\n",
    "        if(index_min+1)==len(scores):\n",
    "            flag=0\n",
    "            if kbisect!=0:\n",
    "                scores[index_min]=1\n",
    "            else:\n",
    "                sent0=0\n",
    "            sentlist1[positionofsent].append(flag)\n",
    "            sentlist.append(odd)\n",
    "            a=np.asarray(memoryrowsdict[index_min][4])\n",
    "            b=np.asarray(memoryrowsdict[index_min][5])\n",
    "            #print a.shape,b.shape\n",
    "            #print a\n",
    "            print \"here1\"\n",
    "            clusterresult,newcentroid1_mean_norm,newcentroid2_mean_norm = k2_means(a,b)\n",
    "            #print clusterresult\n",
    "            odd+=2\n",
    "                        \n",
    "        else:\n",
    "            scores[index_min]=1\n",
    "            sentlist.append(even)\n",
    "            flag=1\n",
    "            sentlist1[positionofsent].append(flag)\n",
    "            if sentlist1[positionofsent][0]==0:\n",
    "                flag=1\n",
    "                sentlist1[positionofsent].append(flag)\n",
    "                a=np.asarray(memoryrowsdict[index_min][1])\n",
    "                b=np.asarray(memoryrowsdict[index_min][2])\n",
    "            else:\n",
    "                flag=0\n",
    "                sentlist1[positionofsent].append(flag)\n",
    "                a=np.asarray(memoryrowsdict[index_min][4])\n",
    "                b=np.asarray(memoryrowsdict[index_min][5])\n",
    "            #print a.shape,b.shape\n",
    "            #print a,b\n",
    "            print \"here2\"\n",
    "            clusterresult,newcentroid1_mean_norm,newcentroid2_mean_norm = k2_means(a,b)\n",
    "            #print clusterresult\n",
    "            even+=2\n",
    "                        \n",
    "    else:\n",
    "        scores.append(avg1)\n",
    "        index_min = min(xrange(len(scores)), key=scores.__getitem__)\n",
    "        positionofsent=index_min\n",
    "        print scores\n",
    "        print len(scores)\n",
    "        print \"i\",index_min\n",
    "        if(index_min+1)==len(scores):\n",
    "            flag=1\n",
    "            if kbisect!=0:\n",
    "                scores[index_min]=1\n",
    "            else:\n",
    "                 sent0 = 1\n",
    "            sentlist1[positionofsent].append(flag)\n",
    "            sentlist.append(even)\n",
    "            a=np.asarray(memoryrowsdict[index_min][1])\n",
    "            b=np.asarray(memoryrowsdict[index_min][2])\n",
    "            #print a.shape,b.shape\n",
    "            #print a,b\n",
    "            print \"here3\"\n",
    "            clusterresult,newcentroid1_mean_norm,newcentroid2_mean_norm = k2_means(a,b)\n",
    "            #print clusterresult\n",
    "            even+=2\n",
    "                        \n",
    "        else:\n",
    "            flag=0\n",
    "            sentlist1[positionofsent].append(flag)\n",
    "            scores[index_min]=1\n",
    "            if sentlist1[positionofsent][0]==0:\n",
    "                flag=1\n",
    "                sentlist1[positionofsent].append(flag)\n",
    "                a=np.asarray(memoryrowsdict[index_min][1])\n",
    "                b=np.asarray(memoryrowsdict[index_min][2])\n",
    "            else:\n",
    "                flag=0\n",
    "                sentlist1[positionofsent].append(flag)\n",
    "                a=np.asarray(memoryrowsdict[index_min][4])\n",
    "                b=np.asarray(memoryrowsdict[index_min][5])\n",
    "            #print a.shape,b.shape\n",
    "            #print a,b\n",
    "            print \"here4\"\n",
    "            clusterresult,newcentroid1_mean_norm,newcentroid2_mean_norm = k2_means(a,b)\n",
    "            #print clusterresult\n",
    "            odd+=2\n",
    "                        \n",
    "\n",
    "        \n",
    "\n",
    "    "
   ]
  },
  {
   "cell_type": "code",
   "execution_count": 105,
   "metadata": {},
   "outputs": [
    {
     "name": "stdout",
     "output_type": "stream",
     "text": [
      "7\n"
     ]
    }
   ],
   "source": [
    "print len(memoryrowsdict)"
   ]
  },
  {
   "cell_type": "code",
   "execution_count": 106,
   "metadata": {},
   "outputs": [
    {
     "name": "stdout",
     "output_type": "stream",
     "text": [
      "defaultdict(<type 'list'>, {0: [0, 0, 1], 1: [0], 2: [0], 3: [0], 5: [0], 6: [0]})\n"
     ]
    }
   ],
   "source": [
    "print sentlist1"
   ]
  },
  {
   "cell_type": "code",
   "execution_count": 107,
   "metadata": {},
   "outputs": [
    {
     "data": {
      "text/plain": [
       "889"
      ]
     },
     "execution_count": 107,
     "metadata": {},
     "output_type": "execute_result"
    }
   ],
   "source": [
    "len((memoryrowsdict[1][3]))"
   ]
  },
  {
   "cell_type": "code",
   "execution_count": 108,
   "metadata": {},
   "outputs": [
    {
     "name": "stdout",
     "output_type": "stream",
     "text": [
      "3738\n",
      "640\n",
      "155\n",
      "41\n",
      "53\n",
      "2398\n",
      "1555\n"
     ]
    }
   ],
   "source": [
    "clusters_7=[]\n",
    "count_7 = 1\n",
    "for clus in range(1,6):\n",
    "    if clus in sentlist1.keys():\n",
    "        #if clus!=0:\n",
    "        #print sentlist1[clus][0]\n",
    "        if sentlist1[clus][0]==1:\n",
    "            clusters_7.append(memoryrowsdict[clus][3])\n",
    "            print len((memoryrowsdict[clus][3]))\n",
    "        else:\n",
    "            clusters_7.append(memoryrowsdict[clus][0])\n",
    "            print len((memoryrowsdict[clus][0]))\n",
    "        #count_7+=1\n",
    "            #if count_7==8:\n",
    "                #break\n",
    "    else:\n",
    "        '''if clus==0 and sent==1:\n",
    "            clusters_7.append(memoryrowsdict[clus][3])\n",
    "            print len((memoryrowsdict[clus][3]))\n",
    "            count_7+=1\n",
    "            if count_7==8:\n",
    "                break\n",
    "        elif clus==0 and sent==0: \n",
    "            clusters_7.append(memoryrowsdict[clus][0])\n",
    "            print len((memoryrowsdict[clus][0]))\n",
    "            count_7+=1\n",
    "            if count_7==8:\n",
    "                break\n",
    "        else:'''\n",
    "        clusters_7.append(memoryrowsdict[clus][0])\n",
    "        print len((memoryrowsdict[clus][0]))\n",
    "        #count_7+=1\n",
    "        #if count_7==8:\n",
    "            #break\n",
    "        clusters_7.append(memoryrowsdict[clus][3])\n",
    "        print len((memoryrowsdict[clus][3]))\n",
    "            #count_7+=1\n",
    "            #if count_7==8:\n",
    "                #break\n",
    "merged = memoryrowsdict[6][3]+memoryrowsdict[6][0]                \n",
    "clusters_7.append(merged)\n",
    "print len(merged)\n"
   ]
  },
  {
   "cell_type": "code",
   "execution_count": 109,
   "metadata": {},
   "outputs": [
    {
     "name": "stdout",
     "output_type": "stream",
     "text": [
      "7\n"
     ]
    }
   ],
   "source": [
    "print len(clusters_7)"
   ]
  },
  {
   "cell_type": "code",
   "execution_count": 110,
   "metadata": {
    "collapsed": true
   },
   "outputs": [],
   "source": [
    "clusterlabel=1\n",
    "final_list=[]\n",
    "for item in clusters_7:\n",
    "    for i in item:\n",
    "          final_list.append((clusterlabel,i))  \n",
    "    clusterlabel+=1\n",
    "\n",
    "    "
   ]
  },
  {
   "cell_type": "code",
   "execution_count": 111,
   "metadata": {},
   "outputs": [
    {
     "name": "stdout",
     "output_type": "stream",
     "text": [
      "8580\n"
     ]
    }
   ],
   "source": [
    "print len(final_list)"
   ]
  },
  {
   "cell_type": "code",
   "execution_count": 112,
   "metadata": {
    "collapsed": true
   },
   "outputs": [],
   "source": [
    "sorted_by_second = sorted(final_list, key=lambda tup: tup[1])"
   ]
  },
  {
   "cell_type": "code",
   "execution_count": 113,
   "metadata": {
    "scrolled": true
   },
   "outputs": [
    {
     "name": "stdout",
     "output_type": "stream",
     "text": [
      "[(1, 0), (1, 1), (1, 2), (1, 3), (1, 4), (1, 5), (1, 6), (6, 7), (6, 8), (1, 9), (1, 10), (1, 11), (1, 12), (2, 13), (1, 14), (1, 15), (1, 16), (1, 17), (1, 18), (1, 19), (1, 20), (6, 21), (1, 22), (6, 23), (1, 24), (1, 25), (1, 26), (2, 27), (6, 28), (6, 29), (1, 30), (1, 31), (6, 32), (1, 33), (1, 34), (1, 35), (1, 36), (1, 37), (1, 38), (6, 39), (1, 40), (6, 41), (6, 42), (1, 43), (1, 44), (6, 45), (1, 46), (1, 47), (1, 48), (6, 49), (1, 50), (1, 51), (1, 52), (1, 53), (1, 54), (1, 55), (1, 56), (2, 57), (1, 58), (1, 59), (1, 60), (1, 61), (2, 62), (1, 63), (1, 64), (2, 65), (1, 66), (1, 67), (1, 68), (1, 69), (1, 70), (1, 71), (1, 72), (1, 73), (6, 74), (1, 75), (1, 76), (6, 77), (6, 78), (1, 79), (6, 80), (6, 81), (1, 82), (1, 83), (6, 84), (1, 85), (1, 86), (1, 87), (1, 88), (1, 89), (1, 90), (1, 91), (6, 92), (6, 93), (1, 94), (6, 95), (2, 96), (1, 97), (1, 98), (1, 99), (6, 100), (1, 101), (2, 102), (1, 103), (1, 104), (1, 105), (2, 106), (1, 107), (1, 108), (1, 109), (1, 110), (1, 111), (6, 112), (1, 113), (1, 114), (1, 115), (1, 116), (1, 117), (6, 118), (6, 119), (1, 120), (6, 121), (1, 122), (1, 123), (6, 124), (1, 125), (1, 126), (6, 127), (6, 128), (1, 129), (6, 130), (1, 131), (6, 132), (6, 133), (1, 134), (1, 135), (6, 136), (6, 137), (1, 138), (2, 139), (6, 140), (1, 141), (6, 142), (1, 143), (6, 144), (6, 145), (1, 146), (6, 147), (6, 148), (6, 149), (6, 150), (6, 151), (1, 152), (1, 153), (6, 154), (6, 155), (6, 156), (6, 157), (6, 158), (6, 159), (1, 160), (1, 161), (6, 162), (1, 163), (6, 164), (2, 165), (1, 166), (1, 167), (6, 168), (1, 169), (1, 170), (2, 171), (1, 172), (6, 173), (6, 174), (6, 175), (6, 176), (1, 177), (6, 178), (1, 179), (6, 180), (1, 181), (6, 182), (6, 183), (6, 184), (1, 185), (6, 186), (1, 187), (1, 188), (1, 189), (2, 190), (2, 191), (6, 192), (1, 193), (6, 194), (1, 195), (6, 196), (6, 197), (2, 198), (6, 199), (6, 200), (2, 201), (1, 202), (1, 203), (6, 204), (1, 205), (6, 206), (6, 207), (1, 208), (1, 209), (6, 210), (1, 211), (6, 212), (6, 213), (6, 214), (1, 215), (6, 216), (6, 217), (6, 218), (6, 219), (1, 220), (1, 221), (6, 222), (1, 223), (6, 224), (1, 225), (6, 226), (6, 227), (6, 228), (6, 229), (6, 230), (6, 231), (6, 232), (6, 233), (6, 234), (6, 235), (6, 236), (6, 237), (1, 238), (6, 239), (1, 240), (1, 241), (1, 242), (1, 243), (1, 244), (6, 245), (6, 246), (1, 247), (1, 248), (6, 249), (6, 250), (1, 251), (6, 252), (6, 253), (1, 254), (6, 255), (6, 256), (1, 257), (2, 258), (6, 259), (6, 260), (6, 261), (6, 262), (6, 263), (6, 264), (1, 265), (6, 266), (6, 267), (6, 268), (1, 269), (1, 270), (1, 271), (1, 272), (6, 273), (6, 274), (1, 275), (1, 276), (6, 277), (1, 278), (6, 279), (6, 280), (2, 281), (6, 282), (6, 283), (6, 284), (2, 285), (1, 286), (1, 287), (2, 288), (6, 289), (6, 290), (6, 291), (1, 292), (6, 293), (2, 294), (1, 295), (6, 296), (6, 297), (6, 298), (6, 299), (6, 300), (6, 301), (6, 302), (1, 303), (6, 304), (1, 305), (1, 306), (6, 307), (1, 308), (1, 309), (1, 310), (1, 311), (6, 312), (6, 313), (1, 314), (1, 315), (1, 316), (1, 317), (6, 318), (6, 319), (6, 320), (6, 321), (6, 322), (6, 323), (6, 324), (6, 325), (6, 326), (6, 327), (6, 328), (1, 329), (6, 330), (6, 331), (1, 332), (6, 333), (1, 334), (6, 335), (1, 336), (6, 337), (6, 338), (6, 339), (6, 340), (6, 341), (6, 342), (6, 343), (6, 344), (1, 345), (6, 346), (6, 347), (1, 348), (6, 349), (6, 350), (6, 351), (6, 352), (6, 353), (6, 354), (1, 355), (6, 356), (6, 357), (6, 358), (6, 359), (6, 360), (6, 361), (6, 362), (6, 363), (6, 364), (6, 365), (6, 366), (6, 367), (1, 368), (2, 369), (6, 370), (6, 371), (6, 372), (6, 373), (1, 374), (1, 375), (6, 376), (6, 377), (6, 378), (2, 379), (6, 380), (6, 381), (6, 382), (1, 383), (6, 384), (6, 385), (1, 386), (6, 387), (1, 388), (6, 389), (6, 390), (6, 391), (6, 392), (6, 393), (1, 394), (6, 395), (6, 396), (1, 397), (6, 398), (6, 399), (1, 400), (6, 401), (6, 402), (1, 403), (6, 404), (1, 405), (6, 406), (6, 407), (6, 408), (6, 409), (6, 410), (1, 411), (6, 412), (6, 413), (6, 414), (6, 415), (1, 416), (7, 417), (6, 418), (6, 419), (6, 420), (6, 421), (6, 422), (6, 423), (7, 424), (1, 425), (6, 426), (1, 427), (6, 428), (1, 429), (6, 430), (6, 431), (1, 432), (6, 433), (6, 434), (6, 435), (6, 436), (6, 437), (1, 438), (6, 439), (6, 440), (1, 441), (6, 442), (6, 443), (6, 444), (6, 445), (1, 446), (2, 447), (6, 448), (1, 449), (6, 450), (6, 451), (6, 452), (6, 453), (1, 454), (6, 455), (6, 456), (6, 457), (6, 458), (6, 459), (1, 460), (6, 461), (6, 462), (6, 463), (6, 464), (1, 465), (6, 466), (6, 467), (1, 468), (6, 469), (6, 470), (6, 471), (6, 472), (6, 473), (6, 474), (6, 475), (6, 476), (2, 477), (6, 478), (6, 479), (6, 480), (6, 481), (6, 482), (1, 483), (1, 484), (6, 485), (6, 486), (6, 487), (6, 488), (1, 489), (6, 490), (6, 491), (6, 492), (6, 493), (6, 494), (6, 495), (1, 496), (1, 497), (6, 498), (6, 499), (6, 500), (6, 501), (6, 502), (1, 503), (1, 504), (6, 505), (6, 506), (6, 507), (6, 508), (6, 509), (6, 510), (6, 511), (6, 512), (6, 513), (6, 514), (6, 515), (6, 516), (6, 517), (6, 518), (1, 519), (1, 520), (6, 521), (6, 522), (6, 523), (1, 524), (1, 525), (6, 526), (6, 527), (1, 528), (6, 529), (1, 530), (1, 531), (6, 532), (1, 533), (6, 534), (1, 535), (6, 536), (6, 537), (6, 538), (6, 539), (1, 540), (6, 541), (6, 542), (6, 543), (6, 544), (6, 545), (6, 546), (6, 547), (6, 548), (6, 549), (6, 550), (6, 551), (1, 552), (6, 553), (1, 554), (1, 555), (1, 556), (6, 557), (6, 558), (6, 559), (6, 560), (1, 561), (6, 562), (6, 563), (6, 564), (6, 565), (6, 566), (1, 567), (6, 568), (6, 569), (6, 570), (1, 571), (6, 572), (6, 573), (6, 574), (6, 575), (6, 576), (6, 577), (6, 578), (6, 579), (6, 580), (6, 581), (6, 582), (6, 583), (6, 584), (6, 585), (6, 586), (1, 587), (6, 588), (1, 589), (1, 590), (6, 591), (6, 592), (1, 593), (1, 594), (6, 595), (6, 596), (1, 597), (6, 598), (6, 599), (6, 600), (6, 601), (6, 602), (6, 603), (6, 604), (6, 605), (1, 606), (6, 607), (6, 608), (6, 609), (1, 610), (6, 611), (6, 612), (6, 613), (6, 614), (6, 615), (6, 616), (6, 617), (6, 618), (6, 619), (6, 620), (6, 621), (1, 622), (6, 623), (1, 624), (1, 625), (6, 626), (6, 627), (6, 628), (6, 629), (6, 630), (6, 631), (6, 632), (1, 633), (6, 634), (1, 635), (6, 636), (6, 637), (1, 638), (6, 639), (1, 640), (6, 641), (6, 642), (6, 643), (6, 644), (6, 645), (6, 646), (6, 647), (1, 648), (6, 649), (6, 650), (6, 651), (6, 652), (1, 653), (6, 654), (6, 655), (6, 656), (6, 657), (1, 658), (6, 659), (6, 660), (6, 661), (6, 662), (6, 663), (6, 664), (6, 665), (6, 666), (1, 667), (1, 668), (6, 669), (6, 670), (1, 671), (6, 672), (6, 673), (6, 674), (2, 675), (6, 676), (6, 677), (6, 678), (1, 679), (6, 680), (1, 681), (6, 682), (1, 683), (6, 684), (6, 685), (1, 686), (6, 687), (6, 688), (1, 689), (6, 690), (6, 691), (6, 692), (6, 693), (6, 694), (6, 695), (6, 696), (1, 697), (6, 698), (6, 699), (6, 700), (6, 701), (2, 702), (6, 703), (6, 704), (6, 705), (6, 706), (6, 707), (6, 708), (6, 709), (6, 710), (1, 711), (6, 712), (6, 713), (6, 714), (6, 715), (6, 716), (2, 717), (2, 718), (6, 719), (6, 720), (6, 721), (6, 722), (1, 723), (1, 724), (6, 725), (6, 726), (6, 727), (6, 728), (6, 729), (6, 730), (1, 731), (6, 732), (6, 733), (1, 734), (6, 735), (2, 736), (6, 737), (6, 738), (1, 739), (6, 740), (6, 741), (6, 742), (6, 743), (6, 744), (6, 745), (6, 746), (6, 747), (6, 748), (6, 749), (6, 750), (1, 751), (6, 752), (6, 753), (1, 754), (6, 755), (6, 756), (6, 757), (6, 758), (6, 759), (6, 760), (6, 761), (6, 762), (1, 763), (1, 764), (6, 765), (6, 766), (6, 767), (6, 768), (6, 769), (1, 770), (6, 771), (1, 772), (6, 773), (1, 774), (6, 775), (6, 776), (6, 777), (1, 778), (6, 779), (6, 780), (6, 781), (6, 782), (6, 783), (6, 784), (6, 785), (6, 786), (6, 787), (6, 788), (6, 789), (6, 790), (6, 791), (1, 792), (6, 793), (6, 794), (6, 795), (6, 796), (6, 797), (6, 798), (6, 799), (6, 800), (6, 801), (6, 802), (6, 803), (6, 804), (6, 805), (6, 806), (2, 807), (6, 808), (6, 809), (6, 810), (6, 811), (6, 812), (6, 813), (6, 814), (6, 815), (1, 816), (6, 817), (6, 818), (1, 819), (6, 820), (6, 821), (6, 822), (6, 823), (6, 824), (6, 825), (6, 826), (6, 827), (6, 828), (6, 829), (6, 830), (6, 831), (6, 832), (6, 833), (6, 834), (6, 835), (6, 836), (6, 837), (6, 838), (6, 839), (6, 840), (6, 841), (6, 842), (6, 843), (6, 844), (6, 845), (1, 846), (6, 847), (6, 848), (6, 849), (6, 850), (1, 851), (6, 852), (6, 853), (6, 854), (6, 855), (6, 856), (6, 857), (6, 858), (1, 859), (6, 860), (6, 861), (6, 862), (1, 863), (6, 864), (6, 865), (6, 866), (6, 867), (6, 868), (6, 869), (6, 870), (6, 871), (6, 872), (6, 873), (6, 874), (6, 875), (6, 876), (6, 877), (6, 878), (6, 879), (6, 880), (6, 881), (6, 882), (1, 883), (6, 884), (6, 885), (1, 886), (6, 887), (6, 888), (6, 889), (6, 890), (6, 891), (6, 892), (1, 893), (6, 894), (6, 895), (6, 896), (6, 897), (6, 898), (6, 899), (1, 900), (6, 901), (6, 902), (6, 903), (6, 904), (6, 905), (6, 906), (6, 907), (6, 908), (6, 909), (1, 910), (6, 911), (1, 912), (6, 913), (6, 914), (6, 915), (6, 916), (6, 917), (6, 918), (1, 919), (1, 920), (6, 921), (6, 922), (6, 923), (6, 924), (6, 925), (6, 926), (6, 927), (1, 928), (2, 929), (2, 930), (6, 931), (6, 932), (6, 933), (6, 934), (1, 935), (1, 936), (6, 937), (1, 938), (1, 939), (1, 940), (6, 941), (6, 942), (6, 943), (6, 944), (6, 945), (6, 946), (6, 947), (6, 948), (6, 949), (6, 950), (6, 951), (6, 952), (1, 953), (6, 954), (6, 955), (6, 956), (1, 957), (6, 958), (6, 959), (6, 960), (6, 961), (1, 962), (6, 963), (1, 964), (6, 965), (6, 966), (1, 967), (6, 968), (6, 969), (1, 970), (6, 971), (6, 972), (6, 973), (1, 974), (6, 975), (1, 976), (6, 977), (6, 978), (1, 979), (6, 980), (6, 981), (6, 982), (1, 983), (6, 984), (6, 985), (6, 986), (6, 987), (6, 988), (6, 989), (6, 990), (6, 991), (6, 992), (6, 993), (6, 994), (6, 995), (6, 996), (6, 997), (6, 998), (6, 999), (6, 1000), (2, 1001), (6, 1002), (6, 1003), (6, 1004), (1, 1005), (6, 1006), (6, 1007), (1, 1008), (6, 1009), (6, 1010), (6, 1011), (6, 1012), (6, 1013), (6, 1014), (6, 1015), (1, 1016), (6, 1017), (6, 1018), (1, 1019), (6, 1020), (6, 1021), (6, 1022), (6, 1023), (1, 1024), (6, 1025), (1, 1026), (6, 1027), (6, 1028), (6, 1029), (6, 1030), (6, 1031), (6, 1032), (6, 1033), (6, 1034), (6, 1035), (6, 1036), (6, 1037), (6, 1038), (1, 1039), (1, 1040), (1, 1041), (6, 1042), (6, 1043), (6, 1044), (6, 1045), (6, 1046), (6, 1047), (6, 1048), (6, 1049), (6, 1050), (6, 1051), (1, 1052), (6, 1053), (1, 1054), (6, 1055), (6, 1056), (6, 1057), (1, 1058), (6, 1059), (6, 1060), (6, 1061), (1, 1062), (6, 1063), (6, 1064), (2, 1065), (6, 1066), (1, 1067), (6, 1068), (1, 1069), (6, 1070), (6, 1071), (6, 1072), (6, 1073), (1, 1074), (6, 1075), (6, 1076), (6, 1077), (6, 1078), (1, 1079), (1, 1080), (6, 1081), (6, 1082), (6, 1083), (6, 1084), (6, 1085), (6, 1086), (6, 1087), (6, 1088), (6, 1089), (6, 1090), (6, 1091), (1, 1092), (6, 1093), (6, 1094), (6, 1095), (6, 1096), (6, 1097), (1, 1098), (6, 1099), (6, 1100), (6, 1101), (6, 1102), (6, 1103), (1, 1104), (6, 1105), (2, 1106), (6, 1107), (6, 1108), (6, 1109), (1, 1110), (6, 1111), (6, 1112), (6, 1113), (1, 1114), (6, 1115), (6, 1116), (6, 1117), (1, 1118), (6, 1119), (6, 1120), (6, 1121), (6, 1122), (6, 1123), (6, 1124), (6, 1125), (6, 1126), (6, 1127), (6, 1128), (6, 1129), (6, 1130), (6, 1131), (6, 1132), (6, 1133), (6, 1134), (6, 1135), (6, 1136), (1, 1137), (6, 1138), (6, 1139), (6, 1140), (6, 1141), (6, 1142), (6, 1143), (6, 1144), (6, 1145), (6, 1146), (6, 1147), (6, 1148), (1, 1149), (6, 1150), (6, 1151), (6, 1152), (6, 1153), (6, 1154), (6, 1155), (1, 1156), (6, 1157), (6, 1158), (6, 1159), (1, 1160), (6, 1161), (6, 1162), (1, 1163), (1, 1164), (6, 1165), (6, 1166), (6, 1167), (6, 1168), (1, 1169), (6, 1170), (6, 1171), (6, 1172), (6, 1173), (6, 1174), (1, 1175), (6, 1176), (6, 1177), (6, 1178), (1, 1179), (6, 1180), (6, 1181), (6, 1182), (6, 1183), (6, 1184), (6, 1185), (6, 1186), (6, 1187), (6, 1188), (6, 1189), (1, 1190), (6, 1191), (6, 1192), (1, 1193), (6, 1194), (1, 1195), (6, 1196), (6, 1197), (1, 1198), (6, 1199), (6, 1200), (6, 1201), (6, 1202), (6, 1203), (6, 1204), (6, 1205), (6, 1206), (1, 1207), (6, 1208), (6, 1209), (6, 1210), (6, 1211), (6, 1212), (1, 1213), (6, 1214), (6, 1215), (6, 1216), (6, 1217), (6, 1218), (6, 1219), (6, 1220), (6, 1221), (6, 1222), (6, 1223), (6, 1224), (6, 1225), (6, 1226), (6, 1227), (6, 1228), (6, 1229), (6, 1230), (6, 1231), (6, 1232), (1, 1233), (6, 1234), (6, 1235), (1, 1236), (6, 1237), (6, 1238), (1, 1239), (6, 1240), (6, 1241), (1, 1242), (1, 1243), (6, 1244), (6, 1245), (2, 1246), (1, 1247), (6, 1248), (1, 1249), (6, 1250), (6, 1251), (6, 1252), (6, 1253), (6, 1254), (1, 1255), (6, 1256), (6, 1257), (6, 1258), (6, 1259), (1, 1260), (6, 1261), (6, 1262), (1, 1263), (6, 1264), (6, 1265), (6, 1266), (6, 1267), (6, 1268), (6, 1269), (6, 1270), (6, 1271), (6, 1272), (6, 1273), (6, 1274), (6, 1275), (1, 1276), (6, 1277), (2, 1278), (6, 1279), (6, 1280), (6, 1281), (6, 1282), (6, 1283), (6, 1284), (1, 1285), (6, 1286), (6, 1287), (6, 1288), (6, 1289), (6, 1290), (6, 1291), (6, 1292), (6, 1293), (6, 1294), (6, 1295), (6, 1296), (6, 1297), (6, 1298), (6, 1299), (6, 1300), (6, 1301), (6, 1302), (6, 1303), (6, 1304), (1, 1305), (6, 1306), (6, 1307), (6, 1308), (1, 1309), (6, 1310), (6, 1311), (6, 1312), (6, 1313), (6, 1314), (6, 1315), (6, 1316), (6, 1317), (6, 1318), (6, 1319), (6, 1320), (6, 1321), (6, 1322), (6, 1323), (6, 1324), (1, 1325), (6, 1326), (6, 1327), (6, 1328), (1, 1329), (6, 1330), (6, 1331), (2, 1332), (6, 1333), (6, 1334), (1, 1335), (6, 1336), (6, 1337), (6, 1338), (6, 1339), (6, 1340), (6, 1341), (6, 1342), (6, 1343), (6, 1344), (6, 1345), (6, 1346), (6, 1347), (6, 1348), (6, 1349), (1, 1350), (6, 1351), (6, 1352), (6, 1353), (6, 1354), (6, 1355), (6, 1356), (1, 1357), (2, 1358), (6, 1359), (6, 1360), (6, 1361), (1, 1362), (1, 1363), (6, 1364), (6, 1365), (6, 1366), (6, 1367), (6, 1368), (1, 1369), (6, 1370), (6, 1371), (6, 1372), (6, 1373), (1, 1374), (6, 1375), (6, 1376), (6, 1377), (6, 1378), (6, 1379), (1, 1380), (6, 1381), (6, 1382), (6, 1383), (6, 1384), (1, 1385), (1, 1386), (6, 1387), (6, 1388), (1, 1389), (1, 1390), (6, 1391), (6, 1392), (1, 1393), (6, 1394), (1, 1395), (1, 1396), (6, 1397), (6, 1398), (6, 1399), (1, 1400), (6, 1401), (6, 1402), (6, 1403), (6, 1404), (6, 1405), (6, 1406), (6, 1407), (6, 1408), (6, 1409), (6, 1410), (1, 1411), (6, 1412), (6, 1413), (6, 1414), (1, 1415), (1, 1416), (1, 1417), (1, 1418), (1, 1419), (6, 1420), (6, 1421), (6, 1422), (6, 1423), (6, 1424), (1, 1425), (6, 1426), (1, 1427), (6, 1428), (6, 1429), (6, 1430), (6, 1431), (6, 1432), (6, 1433), (6, 1434), (6, 1435), (6, 1436), (6, 1437), (6, 1438), (2, 1439), (2, 1440), (1, 1441), (6, 1442), (6, 1443), (1, 1444), (6, 1445), (1, 1446), (6, 1447), (6, 1448), (6, 1449), (6, 1450), (6, 1451), (6, 1452), (6, 1453), (1, 1454), (1, 1455), (6, 1456), (6, 1457), (1, 1458), (6, 1459), (6, 1460), (6, 1461), (6, 1462), (6, 1463), (6, 1464), (6, 1465), (1, 1466), (6, 1467), (6, 1468), (6, 1469), (6, 1470), (6, 1471), (1, 1472), (6, 1473), (6, 1474), (6, 1475), (6, 1476), (6, 1477), (6, 1478), (6, 1479), (6, 1480), (6, 1481), (6, 1482), (1, 1483), (6, 1484), (6, 1485), (6, 1486), (6, 1487), (6, 1488), (6, 1489), (6, 1490), (1, 1491), (6, 1492), (6, 1493), (6, 1494), (6, 1495), (1, 1496), (6, 1497), (6, 1498), (6, 1499), (6, 1500), (6, 1501), (6, 1502), (1, 1503), (6, 1504), (6, 1505), (6, 1506), (6, 1507), (6, 1508), (6, 1509), (6, 1510), (6, 1511), (6, 1512), (6, 1513), (1, 1514), (1, 1515), (6, 1516), (6, 1517), (6, 1518), (6, 1519), (6, 1520), (6, 1521), (6, 1522), (6, 1523), (6, 1524), (6, 1525), (6, 1526), (1, 1527), (6, 1528), (6, 1529), (6, 1530), (6, 1531), (1, 1532), (1, 1533), (1, 1534), (1, 1535), (2, 1536), (6, 1537), (6, 1538), (6, 1539), (6, 1540), (1, 1541), (6, 1542), (6, 1543), (6, 1544), (1, 1545), (6, 1546), (1, 1547), (1, 1548), (6, 1549), (6, 1550), (6, 1551), (6, 1552), (6, 1553), (6, 1554), (6, 1555), (6, 1556), (6, 1557), (6, 1558), (6, 1559), (1, 1560), (1, 1561), (1, 1562), (1, 1563), (2, 1564), (6, 1565), (6, 1566), (6, 1567), (1, 1568), (6, 1569), (6, 1570), (6, 1571), (6, 1572), (6, 1573), (6, 1574), (6, 1575), (6, 1576), (6, 1577), (6, 1578), (6, 1579), (6, 1580), (1, 1581), (6, 1582), (6, 1583), (6, 1584), (6, 1585), (6, 1586), (6, 1587), (6, 1588), (6, 1589), (6, 1590), (1, 1591), (6, 1592), (6, 1593), (2, 1594), (6, 1595), (6, 1596), (6, 1597), (1, 1598), (6, 1599), (6, 1600), (6, 1601), (6, 1602), (6, 1603), (1, 1604), (1, 1605), (6, 1606), (6, 1607), (1, 1608), (6, 1609), (6, 1610), (1, 1611), (6, 1612), (1, 1613), (2, 1614), (6, 1615), (6, 1616), (6, 1617), (6, 1618), (1, 1619), (6, 1620), (6, 1621), (6, 1622), (6, 1623), (1, 1624), (1, 1625), (6, 1626), (1, 1627), (6, 1628), (6, 1629), (1, 1630), (6, 1631), (6, 1632), (6, 1633), (6, 1634), (6, 1635), (1, 1636), (6, 1637), (6, 1638), (6, 1639), (2, 1640), (6, 1641), (6, 1642), (6, 1643), (6, 1644), (6, 1645), (6, 1646), (6, 1647), (6, 1648), (6, 1649), (6, 1650), (6, 1651), (6, 1652), (6, 1653), (6, 1654), (6, 1655), (6, 1656), (6, 1657), (6, 1658), (6, 1659), (6, 1660), (6, 1661), (6, 1662), (1, 1663), (6, 1664), (6, 1665), (6, 1666), (6, 1667), (1, 1668), (6, 1669), (6, 1670), (6, 1671), (6, 1672), (6, 1673), (6, 1674), (6, 1675), (6, 1676), (6, 1677), (6, 1678), (6, 1679), (6, 1680), (6, 1681), (6, 1682), (6, 1683), (6, 1684), (6, 1685), (6, 1686), (1, 1687), (6, 1688), (1, 1689), (6, 1690), (6, 1691), (6, 1692), (1, 1693), (6, 1694), (6, 1695), (6, 1696), (6, 1697), (1, 1698), (6, 1699), (6, 1700), (6, 1701), (6, 1702), (6, 1703), (1, 1704), (6, 1705), (6, 1706), (6, 1707), (6, 1708), (6, 1709), (6, 1710), (6, 1711), (1, 1712), (6, 1713), (6, 1714), (6, 1715), (6, 1716), (6, 1717), (6, 1718), (6, 1719), (6, 1720), (6, 1721), (6, 1722), (6, 1723), (6, 1724), (2, 1725), (6, 1726), (6, 1727), (6, 1728), (6, 1729), (1, 1730), (6, 1731), (6, 1732), (6, 1733), (6, 1734), (6, 1735), (6, 1736), (6, 1737), (6, 1738), (1, 1739), (6, 1740), (6, 1741), (1, 1742), (6, 1743), (6, 1744), (6, 1745), (1, 1746), (6, 1747), (6, 1748), (6, 1749), (6, 1750), (6, 1751), (1, 1752), (6, 1753), (6, 1754), (6, 1755), (6, 1756), (6, 1757), (1, 1758), (6, 1759), (6, 1760), (1, 1761), (6, 1762), (6, 1763), (6, 1764), (1, 1765), (6, 1766), (6, 1767), (6, 1768), (6, 1769), (6, 1770), (6, 1771), (6, 1772), (6, 1773), (6, 1774), (1, 1775), (6, 1776), (6, 1777), (6, 1778), (6, 1779), (6, 1780), (1, 1781), (6, 1782), (6, 1783), (6, 1784), (6, 1785), (6, 1786), (6, 1787), (6, 1788), (6, 1789), (6, 1790), (6, 1791), (6, 1792), (6, 1793), (6, 1794), (6, 1795), (6, 1796), (6, 1797), (6, 1798), (6, 1799), (6, 1800), (1, 1801), (6, 1802), (6, 1803), (2, 1804), (6, 1805), (6, 1806), (6, 1807), (6, 1808), (1, 1809), (6, 1810), (6, 1811), (6, 1812), (6, 1813), (6, 1814), (2, 1815), (6, 1816), (1, 1817), (1, 1818), (6, 1819), (1, 1820), (6, 1821), (6, 1822), (6, 1823), (6, 1824), (1, 1825), (6, 1826), (6, 1827), (6, 1828), (6, 1829), (1, 1830), (1, 1831), (6, 1832), (6, 1833), (6, 1834), (6, 1835), (6, 1836), (6, 1837), (6, 1838), (6, 1839), (1, 1840), (6, 1841), (6, 1842), (6, 1843), (6, 1844), (6, 1845), (1, 1846), (6, 1847), (6, 1848), (6, 1849), (6, 1850), (6, 1851), (1, 1852), (6, 1853), (6, 1854), (1, 1855), (2, 1856), (1, 1857), (6, 1858), (1, 1859), (1, 1860), (1, 1861), (6, 1862), (6, 1863), (6, 1864), (6, 1865), (6, 1866), (6, 1867), (6, 1868), (1, 1869), (2, 1870), (6, 1871), (6, 1872), (1, 1873), (6, 1874), (1, 1875), (6, 1876), (1, 1877), (6, 1878), (6, 1879), (6, 1880), (6, 1881), (6, 1882), (6, 1883), (1, 1884), (6, 1885), (6, 1886), (1, 1887), (6, 1888), (1, 1889), (6, 1890), (6, 1891), (6, 1892), (6, 1893), (6, 1894), (6, 1895), (6, 1896), (6, 1897), (1, 1898), (1, 1899), (6, 1900), (6, 1901), (1, 1902), (6, 1903), (6, 1904), (6, 1905), (1, 1906), (1, 1907), (6, 1908), (6, 1909), (6, 1910), (6, 1911), (6, 1912), (6, 1913), (1, 1914), (6, 1915), (1, 1916), (6, 1917), (1, 1918), (1, 1919), (1, 1920), (1, 1921), (6, 1922), (6, 1923), (6, 1924), (1, 1925), (6, 1926), (6, 1927), (6, 1928), (6, 1929), (6, 1930), (1, 1931), (6, 1932), (6, 1933), (1, 1934), (6, 1935), (6, 1936), (6, 1937), (2, 1938), (6, 1939), (6, 1940), (1, 1941), (6, 1942), (6, 1943), (6, 1944), (6, 1945), (1, 1946), (6, 1947), (6, 1948), (6, 1949), (6, 1950), (1, 1951), (1, 1952), (1, 1953), (1, 1954), (6, 1955), (1, 1956), (1, 1957), (6, 1958), (6, 1959), (1, 1960), (6, 1961), (6, 1962), (6, 1963), (6, 1964), (2, 1965), (6, 1966), (6, 1967), (6, 1968), (6, 1969), (1, 1970), (6, 1971), (6, 1972), (3, 1973), (6, 1974), (1, 1975), (5, 1976), (6, 1977), (6, 1978), (1, 1979), (6, 1980), (6, 1981), (6, 1982), (6, 1983), (6, 1984), (6, 1985), (6, 1986), (6, 1987), (6, 1988), (1, 1989), (6, 1990), (6, 1991), (6, 1992), (6, 1993), (6, 1994), (6, 1995), (6, 1996), (6, 1997), (6, 1998), (6, 1999), (6, 2000), (6, 2001), (6, 2002), (6, 2003), (1, 2004), (6, 2005), (1, 2006), (6, 2007), (6, 2008), (6, 2009), (6, 2010), (6, 2011), (6, 2012), (1, 2013), (6, 2014), (6, 2015), (6, 2016), (6, 2017), (6, 2018), (1, 2019), (6, 2020), (1, 2021), (2, 2022), (1, 2023), (6, 2024), (6, 2025), (6, 2026), (6, 2027), (6, 2028), (6, 2029), (6, 2030), (6, 2031), (1, 2032), (6, 2033), (6, 2034), (6, 2035), (6, 2036), (1, 2037), (1, 2038), (1, 2039), (6, 2040), (6, 2041), (6, 2042), (6, 2043), (6, 2044), (6, 2045), (6, 2046), (1, 2047), (1, 2048), (1, 2049), (6, 2050), (6, 2051), (1, 2052), (6, 2053), (6, 2054), (2, 2055), (6, 2056), (6, 2057), (1, 2058), (6, 2059), (6, 2060), (6, 2061), (6, 2062), (1, 2063), (1, 2064), (6, 2065), (6, 2066), (6, 2067), (6, 2068), (6, 2069), (2, 2070), (6, 2071), (6, 2072), (1, 2073), (6, 2074), (1, 2075), (6, 2076), (1, 2077), (6, 2078), (1, 2079), (2, 2080), (6, 2081), (1, 2082), (2, 2083), (6, 2084), (2, 2085), (6, 2086), (2, 2087), (6, 2088), (6, 2089), (6, 2090), (2, 2091), (1, 2092), (6, 2093), (6, 2094), (6, 2095), (1, 2096), (6, 2097), (6, 2098), (6, 2099), (6, 2100), (1, 2101), (6, 2102), (6, 2103), (6, 2104), (1, 2105), (6, 2106), (6, 2107), (6, 2108), (6, 2109), (6, 2110), (6, 2111), (1, 2112), (6, 2113), (6, 2114), (6, 2115), (6, 2116), (6, 2117), (6, 2118), (6, 2119), (6, 2120), (1, 2121), (1, 2122), (6, 2123), (6, 2124), (6, 2125), (1, 2126), (6, 2127), (6, 2128), (6, 2129), (6, 2130), (6, 2131), (6, 2132), (2, 2133), (6, 2134), (1, 2135), (6, 2136), (2, 2137), (6, 2138), (6, 2139), (6, 2140), (1, 2141), (6, 2142), (6, 2143), (6, 2144), (6, 2145), (6, 2146), (6, 2147), (6, 2148), (6, 2149), (6, 2150), (6, 2151), (6, 2152), (6, 2153), (6, 2154), (6, 2155), (6, 2156), (1, 2157), (6, 2158), (6, 2159), (6, 2160), (6, 2161), (1, 2162), (6, 2163), (6, 2164), (6, 2165), (6, 2166), (1, 2167), (6, 2168), (6, 2169), (1, 2170), (6, 2171), (6, 2172), (1, 2173), (6, 2174), (6, 2175), (6, 2176), (6, 2177), (6, 2178), (6, 2179), (6, 2180), (6, 2181), (6, 2182), (6, 2183), (6, 2184), (1, 2185), (6, 2186), (6, 2187), (6, 2188), (6, 2189), (6, 2190), (6, 2191), (6, 2192), (6, 2193), (6, 2194), (6, 2195), (6, 2196), (6, 2197), (6, 2198), (6, 2199), (1, 2200), (6, 2201), (6, 2202), (6, 2203), (6, 2204), (1, 2205), (6, 2206), (6, 2207), (6, 2208), (1, 2209), (6, 2210), (6, 2211), (6, 2212), (6, 2213), (6, 2214), (6, 2215), (6, 2216), (1, 2217), (6, 2218), (6, 2219), (1, 2220), (6, 2221), (6, 2222), (2, 2223), (6, 2224), (1, 2225), (6, 2226), (6, 2227), (1, 2228), (6, 2229), (6, 2230), (6, 2231), (6, 2232), (6, 2233), (6, 2234), (1, 2235), (6, 2236), (6, 2237), (6, 2238), (6, 2239), (6, 2240), (1, 2241), (6, 2242), (6, 2243), (1, 2244), (1, 2245), (6, 2246), (1, 2247), (1, 2248), (1, 2249), (6, 2250), (1, 2251), (6, 2252), (6, 2253), (1, 2254), (6, 2255), (6, 2256), (6, 2257), (2, 2258), (6, 2259), (6, 2260), (6, 2261), (6, 2262), (6, 2263), (6, 2264), (6, 2265), (6, 2266), (1, 2267), (6, 2268), (6, 2269), (1, 2270), (6, 2271), (6, 2272), (1, 2273), (6, 2274), (6, 2275), (6, 2276), (1, 2277), (6, 2278), (6, 2279), (6, 2280), (1, 2281), (1, 2282), (6, 2283), (6, 2284), (6, 2285), (1, 2286), (6, 2287), (6, 2288), (1, 2289), (6, 2290), (1, 2291), (6, 2292), (1, 2293), (1, 2294), (6, 2295), (6, 2296), (6, 2297), (6, 2298), (1, 2299), (1, 2300), (6, 2301), (6, 2302), (6, 2303), (1, 2304), (1, 2305), (6, 2306), (6, 2307), (6, 2308), (6, 2309), (6, 2310), (1, 2311), (6, 2312), (6, 2313), (6, 2314), (6, 2315), (6, 2316), (6, 2317), (6, 2318), (6, 2319), (6, 2320), (6, 2321), (1, 2322), (6, 2323), (6, 2324), (6, 2325), (1, 2326), (2, 2327), (6, 2328), (1, 2329), (1, 2330), (6, 2331), (6, 2332), (6, 2333), (6, 2334), (6, 2335), (6, 2336), (6, 2337), (6, 2338), (6, 2339), (6, 2340), (6, 2341), (6, 2342), (6, 2343), (6, 2344), (6, 2345), (6, 2346), (6, 2347), (6, 2348), (1, 2349), (1, 2350), (6, 2351), (6, 2352), (6, 2353), (6, 2354), (6, 2355), (6, 2356), (6, 2357), (6, 2358), (6, 2359), (6, 2360), (6, 2361), (6, 2362), (6, 2363), (6, 2364), (6, 2365), (1, 2366), (6, 2367), (6, 2368), (6, 2369), (2, 2370), (6, 2371), (2, 2372), (6, 2373), (6, 2374), (6, 2375), (6, 2376), (1, 2377), (6, 2378), (6, 2379), (6, 2380), (1, 2381), (6, 2382), (6, 2383), (1, 2384), (6, 2385), (6, 2386), (2, 2387), (6, 2388), (1, 2389), (6, 2390), (6, 2391), (6, 2392), (2, 2393), (6, 2394), (6, 2395), (6, 2396), (1, 2397), (6, 2398), (6, 2399), (3, 2400), (1, 2401), (6, 2402), (6, 2403), (1, 2404), (6, 2405), (6, 2406), (6, 2407), (6, 2408), (6, 2409), (6, 2410), (6, 2411), (6, 2412), (6, 2413), (6, 2414), (6, 2415), (6, 2416), (1, 2417), (6, 2418), (6, 2419), (6, 2420), (6, 2421), (6, 2422), (6, 2423), (1, 2424), (6, 2425), (6, 2426), (6, 2427), (6, 2428), (6, 2429), (6, 2430), (6, 2431), (1, 2432), (6, 2433), (6, 2434), (6, 2435), (6, 2436), (6, 2437), (6, 2438), (6, 2439), (6, 2440), (6, 2441), (6, 2442), (6, 2443), (1, 2444), (6, 2445), (6, 2446), (6, 2447), (1, 2448), (6, 2449), (6, 2450), (6, 2451), (6, 2452), (1, 2453), (6, 2454), (6, 2455), (6, 2456), (6, 2457), (6, 2458), (6, 2459), (6, 2460), (6, 2461), (1, 2462), (6, 2463), (6, 2464), (1, 2465), (6, 2466), (6, 2467), (6, 2468), (1, 2469), (6, 2470), (6, 2471), (1, 2472), (6, 2473), (6, 2474), (6, 2475), (6, 2476), (6, 2477), (1, 2478), (6, 2479), (6, 2480), (6, 2481), (6, 2482), (6, 2483), (6, 2484), (1, 2485), (6, 2486), (6, 2487), (6, 2488), (1, 2489), (1, 2490), (1, 2491), (6, 2492), (6, 2493), (6, 2494), (6, 2495), (6, 2496), (6, 2497), (6, 2498), (6, 2499), (1, 2500), (6, 2501), (6, 2502), (6, 2503), (6, 2504), (6, 2505), (6, 2506), (6, 2507), (6, 2508), (6, 2509), (6, 2510), (6, 2511), (6, 2512), (6, 2513), (6, 2514), (6, 2515), (6, 2516), (6, 2517), (6, 2518), (6, 2519), (6, 2520), (6, 2521), (6, 2522), (6, 2523), (6, 2524), (6, 2525), (6, 2526), (6, 2527), (6, 2528), (6, 2529), (6, 2530), (6, 2531), (6, 2532), (6, 2533), (6, 2534), (6, 2535), (1, 2536), (6, 2537), (6, 2538), (1, 2539), (6, 2540), (6, 2541), (6, 2542), (6, 2543), (6, 2544), (6, 2545), (6, 2546), (6, 2547), (6, 2548), (6, 2549), (6, 2550), (6, 2551), (6, 2552), (6, 2553), (6, 2554), (1, 2555), (6, 2556), (6, 2557), (6, 2558), (6, 2559), (6, 2560), (6, 2561), (1, 2562), (1, 2563), (6, 2564), (1, 2565), (6, 2566), (6, 2567), (6, 2568), (6, 2569), (6, 2570), (6, 2571), (6, 2572), (6, 2573), (6, 2574), (6, 2575), (6, 2576), (6, 2577), (2, 2578), (6, 2579), (6, 2580), (6, 2581), (6, 2582), (6, 2583), (6, 2584), (6, 2585), (6, 2586), (6, 2587), (6, 2588), (6, 2589), (1, 2590), (6, 2591), (6, 2592), (6, 2593), (1, 2594), (6, 2595), (6, 2596), (2, 2597), (1, 2598), (6, 2599), (6, 2600), (6, 2601), (6, 2602), (1, 2603), (1, 2604), (6, 2605), (1, 2606), (6, 2607), (6, 2608), (6, 2609), (6, 2610), (6, 2611), (6, 2612), (6, 2613), (6, 2614), (6, 2615), (1, 2616), (6, 2617), (6, 2618), (6, 2619), (6, 2620), (6, 2621), (6, 2622), (6, 2623), (6, 2624), (1, 2625), (6, 2626), (6, 2627), (6, 2628), (6, 2629), (6, 2630), (6, 2631), (6, 2632), (1, 2633), (6, 2634), (6, 2635), (6, 2636), (1, 2637), (6, 2638), (1, 2639), (6, 2640), (1, 2641), (6, 2642), (6, 2643), (6, 2644), (6, 2645), (6, 2646), (6, 2647), (6, 2648), (6, 2649), (6, 2650), (1, 2651), (6, 2652), (6, 2653), (6, 2654), (6, 2655), (6, 2656), (6, 2657), (1, 2658), (6, 2659), (6, 2660), (6, 2661), (2, 2662), (1, 2663), (6, 2664), (6, 2665), (6, 2666), (6, 2667), (6, 2668), (6, 2669), (6, 2670), (6, 2671), (6, 2672), (6, 2673), (1, 2674), (6, 2675), (1, 2676), (6, 2677), (6, 2678), (6, 2679), (6, 2680), (6, 2681), (6, 2682), (6, 2683), (6, 2684), (6, 2685), (6, 2686), (1, 2687), (3, 2688), (6, 2689), (6, 2690), (6, 2691), (6, 2692), (6, 2693), (6, 2694), (6, 2695), (6, 2696), (6, 2697), (6, 2698), (6, 2699), (6, 2700), (6, 2701), (6, 2702), (6, 2703), (6, 2704), (6, 2705), (6, 2706), (6, 2707), (6, 2708), (6, 2709), (6, 2710), (6, 2711), (1, 2712), (6, 2713), (6, 2714), (6, 2715), (6, 2716), (6, 2717), (6, 2718), (1, 2719), (1, 2720), (1, 2721), (1, 2722), (6, 2723), (6, 2724), (6, 2725), (6, 2726), (6, 2727), (6, 2728), (2, 2729), (2, 2730), (6, 2731), (1, 2732), (6, 2733), (6, 2734), (6, 2735), (6, 2736), (6, 2737), (6, 2738), (6, 2739), (1, 2740), (6, 2741), (6, 2742), (6, 2743), (6, 2744), (6, 2745), (6, 2746), (6, 2747), (6, 2748), (1, 2749), (6, 2750), (6, 2751), (1, 2752), (1, 2753), (6, 2754), (6, 2755), (6, 2756), (6, 2757), (6, 2758), (6, 2759), (6, 2760), (6, 2761), (6, 2762), (6, 2763), (6, 2764), (6, 2765), (6, 2766), (6, 2767), (6, 2768), (1, 2769), (6, 2770), (6, 2771), (1, 2772), (6, 2773), (6, 2774), (6, 2775), (6, 2776), (6, 2777), (1, 2778), (1, 2779), (6, 2780), (6, 2781), (6, 2782), (1, 2783), (6, 2784), (6, 2785), (6, 2786), (1, 2787), (1, 2788), (6, 2789), (6, 2790), (6, 2791), (6, 2792), (6, 2793), (6, 2794), (6, 2795), (6, 2796), (6, 2797), (1, 2798), (1, 2799), (6, 2800), (1, 2801), (6, 2802), (6, 2803), (6, 2804), (6, 2805), (6, 2806), (6, 2807), (6, 2808), (6, 2809), (1, 2810), (6, 2811), (6, 2812), (6, 2813), (6, 2814), (6, 2815), (6, 2816), (6, 2817), (6, 2818), (6, 2819), (6, 2820), (6, 2821), (6, 2822), (6, 2823), (6, 2824), (6, 2825), (6, 2826), (6, 2827), (6, 2828), (6, 2829), (2, 2830), (1, 2831), (6, 2832), (6, 2833), (1, 2834), (6, 2835), (6, 2836), (1, 2837), (6, 2838), (6, 2839), (6, 2840), (6, 2841), (6, 2842), (1, 2843), (6, 2844), (1, 2845), (6, 2846), (6, 2847), (6, 2848), (6, 2849), (6, 2850), (1, 2851), (6, 2852), (6, 2853), (1, 2854), (1, 2855), (6, 2856), (6, 2857), (1, 2858), (6, 2859), (6, 2860), (1, 2861), (6, 2862), (6, 2863), (6, 2864), (6, 2865), (6, 2866), (1, 2867), (6, 2868), (1, 2869), (1, 2870), (6, 2871), (6, 2872), (6, 2873), (6, 2874), (6, 2875), (6, 2876), (6, 2877), (6, 2878), (6, 2879), (1, 2880), (6, 2881), (6, 2882), (6, 2883), (6, 2884), (6, 2885), (1, 2886), (6, 2887), (1, 2888), (1, 2889), (6, 2890), (6, 2891), (6, 2892), (6, 2893), (6, 2894), (6, 2895), (6, 2896), (6, 2897), (1, 2898), (6, 2899), (6, 2900), (6, 2901), (2, 2902), (1, 2903), (6, 2904), (6, 2905), (6, 2906), (6, 2907), (6, 2908), (6, 2909), (6, 2910), (6, 2911), (1, 2912), (1, 2913), (2, 2914), (2, 2915), (1, 2916), (2, 2917), (1, 2918), (6, 2919), (6, 2920), (1, 2921), (1, 2922), (1, 2923), (1, 2924), (6, 2925), (6, 2926), (1, 2927), (6, 2928), (6, 2929), (6, 2930), (6, 2931), (6, 2932), (6, 2933), (6, 2934), (1, 2935), (6, 2936), (6, 2937), (6, 2938), (6, 2939), (6, 2940), (6, 2941), (6, 2942), (6, 2943), (1, 2944), (2, 2945), (1, 2946), (1, 2947), (2, 2948), (6, 2949), (6, 2950), (6, 2951), (6, 2952), (2, 2953), (6, 2954), (2, 2955), (2, 2956), (6, 2957), (6, 2958), (1, 2959), (6, 2960), (2, 2961), (6, 2962), (2, 2963), (1, 2964), (1, 2965), (6, 2966), (6, 2967), (6, 2968), (6, 2969), (2, 2970), (1, 2971), (1, 2972), (6, 2973), (1, 2974), (1, 2975), (6, 2976), (7, 2977), (1, 2978), (2, 2979), (2, 2980), (1, 2981), (6, 2982), (2, 2983), (1, 2984), (6, 2985), (1, 2986), (6, 2987), (6, 2988), (2, 2989), (1, 2990), (6, 2991), (1, 2992), (6, 2993), (6, 2994), (6, 2995), (1, 2996), (6, 2997), (6, 2998), (1, 2999), (6, 3000), (2, 3001), (6, 3002), (6, 3003), (1, 3004), (2, 3005), (6, 3006), (6, 3007), (2, 3008), (1, 3009), (6, 3010), (6, 3011), (6, 3012), (1, 3013), (2, 3014), (6, 3015), (1, 3016), (1, 3017), (1, 3018), (6, 3019), (6, 3020), (1, 3021), (6, 3022), (6, 3023), (1, 3024), (6, 3025), (1, 3026), (2, 3027), (1, 3028), (6, 3029), (2, 3030), (1, 3031), (6, 3032), (2, 3033), (1, 3034), (1, 3035), (2, 3036), (1, 3037), (6, 3038), (1, 3039), (1, 3040), (6, 3041), (1, 3042), (1, 3043), (1, 3044), (1, 3045), (6, 3046), (6, 3047), (1, 3048), (6, 3049), (6, 3050), (2, 3051), (6, 3052), (6, 3053), (1, 3054), (1, 3055), (1, 3056), (2, 3057), (6, 3058), (6, 3059), (6, 3060), (1, 3061), (1, 3062), (6, 3063), (2, 3064), (6, 3065), (2, 3066), (6, 3067), (6, 3068), (1, 3069), (1, 3070), (1, 3071), (6, 3072), (6, 3073), (6, 3074), (6, 3075), (2, 3076), (1, 3077), (6, 3078), (6, 3079), (6, 3080), (6, 3081), (1, 3082), (6, 3083), (6, 3084), (6, 3085), (6, 3086), (6, 3087), (6, 3088), (1, 3089), (6, 3090), (6, 3091), (6, 3092), (6, 3093), (1, 3094), (6, 3095), (1, 3096), (6, 3097), (6, 3098), (6, 3099), (6, 3100), (6, 3101), (6, 3102), (6, 3103), (2, 3104), (1, 3105), (6, 3106), (6, 3107), (1, 3108), (2, 3109), (6, 3110), (1, 3111), (6, 3112), (6, 3113), (6, 3114), (1, 3115), (6, 3116), (2, 3117), (6, 3118), (2, 3119), (6, 3120), (1, 3121), (1, 3122), (6, 3123), (6, 3124), (6, 3125), (2, 3126), (6, 3127), (6, 3128), (6, 3129), (6, 3130), (1, 3131), (2, 3132), (6, 3133), (6, 3134), (6, 3135), (1, 3136), (1, 3137), (2, 3138), (6, 3139), (6, 3140), (1, 3141), (1, 3142), (1, 3143), (6, 3144), (6, 3145), (6, 3146), (1, 3147), (6, 3148), (1, 3149), (6, 3150), (6, 3151), (6, 3152), (6, 3153), (6, 3154), (6, 3155), (2, 3156), (6, 3157), (2, 3158), (6, 3159), (6, 3160), (1, 3161), (6, 3162), (6, 3163), (1, 3164), (1, 3165), (6, 3166), (2, 3167), (1, 3168), (2, 3169), (1, 3170), (1, 3171), (6, 3172), (1, 3173), (6, 3174), (6, 3175), (6, 3176), (6, 3177), (6, 3178), (6, 3179), (6, 3180), (1, 3181), (6, 3182), (1, 3183), (6, 3184), (1, 3185), (6, 3186), (6, 3187), (1, 3188), (1, 3189), (1, 3190), (6, 3191), (1, 3192), (6, 3193), (1, 3194), (1, 3195), (1, 3196), (6, 3197), (1, 3198), (1, 3199), (6, 3200), (1, 3201), (6, 3202), (1, 3203), (6, 3204), (1, 3205), (1, 3206), (6, 3207), (6, 3208), (1, 3209), (1, 3210), (1, 3211), (6, 3212), (6, 3213), (6, 3214), (1, 3215), (1, 3216), (6, 3217), (2, 3218), (6, 3219), (6, 3220), (1, 3221), (1, 3222), (2, 3223), (1, 3224), (1, 3225), (1, 3226), (6, 3227), (1, 3228), (1, 3229), (6, 3230), (1, 3231), (1, 3232), (6, 3233), (1, 3234), (1, 3235), (1, 3236), (1, 3237), (6, 3238), (1, 3239), (1, 3240), (2, 3241), (1, 3242), (1, 3243), (6, 3244), (1, 3245), (1, 3246), (1, 3247), (1, 3248), (6, 3249), (6, 3250), (6, 3251), (1, 3252), (1, 3253), (6, 3254), (1, 3255), (1, 3256), (1, 3257), (1, 3258), (6, 3259), (1, 3260), (1, 3261), (6, 3262), (1, 3263), (1, 3264), (1, 3265), (1, 3266), (6, 3267), (1, 3268), (1, 3269), (1, 3270), (1, 3271), (6, 3272), (1, 3273), (1, 3274), (2, 3275), (1, 3276), (1, 3277), (1, 3278), (1, 3279), (1, 3280), (6, 3281), (1, 3282), (1, 3283), (1, 3284), (1, 3285), (2, 3286), (1, 3287), (1, 3288), (1, 3289), (6, 3290), (1, 3291), (1, 3292), (6, 3293), (6, 3294), (1, 3295), (6, 3296), (6, 3297), (1, 3298), (1, 3299), (6, 3300), (1, 3301), (2, 3302), (1, 3303), (6, 3304), (6, 3305), (2, 3306), (2, 3307), (1, 3308), (2, 3309), (1, 3310), (6, 3311), (2, 3312), (1, 3313), (1, 3314), (1, 3315), (1, 3316), (1, 3317), (1, 3318), (1, 3319), (1, 3320), (6, 3321), (1, 3322), (1, 3323), (1, 3324), (1, 3325), (1, 3326), (1, 3327), (1, 3328), (6, 3329), (1, 3330), (1, 3331), (1, 3332), (1, 3333), (1, 3334), (1, 3335), (1, 3336), (1, 3337), (6, 3338), (1, 3339), (1, 3340), (1, 3341), (1, 3342), (1, 3343), (1, 3344), (1, 3345), (1, 3346), (6, 3347), (1, 3348), (1, 3349), (1, 3350), (1, 3351), (1, 3352), (1, 3353), (1, 3354), (1, 3355), (1, 3356), (1, 3357), (1, 3358), (1, 3359), (6, 3360), (1, 3361), (1, 3362), (1, 3363), (1, 3364), (6, 3365), (1, 3366), (1, 3367), (1, 3368), (6, 3369), (6, 3370), (1, 3371), (1, 3372), (1, 3373), (1, 3374), (1, 3375), (1, 3376), (1, 3377), (1, 3378), (1, 3379), (1, 3380), (1, 3381), (6, 3382), (2, 3383), (2, 3384), (1, 3385), (1, 3386), (1, 3387), (1, 3388), (1, 3389), (1, 3390), (1, 3391), (1, 3392), (2, 3393), (6, 3394), (1, 3395), (6, 3396), (1, 3397), (1, 3398), (6, 3399), (1, 3400), (1, 3401), (1, 3402), (6, 3403), (1, 3404), (1, 3405), (2, 3406), (1, 3407), (1, 3408), (1, 3409), (1, 3410), (1, 3411), (7, 3412), (7, 3413), (7, 3414), (7, 3415), (7, 3416), (7, 3417), (1, 3418), (7, 3419), (7, 3420), (7, 3421), (7, 3422), (7, 3423), (7, 3424), (1, 3425), (1, 3426), (1, 3427), (7, 3428), (7, 3429), (7, 3430), (7, 3431), (1, 3432), (7, 3433), (7, 3434), (7, 3435), (7, 3436), (7, 3437), (1, 3438), (7, 3439), (7, 3440), (7, 3441), (1, 3442), (1, 3443), (7, 3444), (7, 3445), (7, 3446), (7, 3447), (7, 3448), (1, 3449), (7, 3450), (7, 3451), (7, 3452), (7, 3453), (7, 3454), (1, 3455), (7, 3456), (7, 3457), (7, 3458), (1, 3459), (7, 3460), (1, 3461), (7, 3462), (7, 3463), (7, 3464), (7, 3465), (7, 3466), (1, 3467), (7, 3468), (7, 3469), (7, 3470), (1, 3471), (7, 3472), (7, 3473), (7, 3474), (7, 3475), (7, 3476), (7, 3477), (7, 3478), (7, 3479), (7, 3480), (7, 3481), (7, 3482), (7, 3483), (1, 3484), (7, 3485), (7, 3486), (7, 3487), (7, 3488), (1, 3489), (1, 3490), (7, 3491), (7, 3492), (7, 3493), (7, 3494), (7, 3495), (7, 3496), (7, 3497), (7, 3498), (1, 3499), (7, 3500), (7, 3501), (7, 3502), (7, 3503), (7, 3504), (1, 3505), (7, 3506), (1, 3507), (7, 3508), (7, 3509), (7, 3510), (7, 3511), (7, 3512), (7, 3513), (7, 3514), (7, 3515), (1, 3516), (7, 3517), (7, 3518), (7, 3519), (7, 3520), (7, 3521), (1, 3522), (7, 3523), (7, 3524), (7, 3525), (1, 3526), (1, 3527), (7, 3528), (7, 3529), (7, 3530), (1, 3531), (7, 3532), (7, 3533), (7, 3534), (7, 3535), (7, 3536), (1, 3537), (7, 3538), (7, 3539), (7, 3540), (7, 3541), (7, 3542), (7, 3543), (7, 3544), (7, 3545), (7, 3546), (7, 3547), (7, 3548), (7, 3549), (7, 3550), (7, 3551), (1, 3552), (7, 3553), (7, 3554), (7, 3555), (1, 3556), (7, 3557), (7, 3558), (7, 3559), (1, 3560), (1, 3561), (7, 3562), (7, 3563), (7, 3564), (7, 3565), (7, 3566), (7, 3567), (7, 3568), (1, 3569), (7, 3570), (7, 3571), (7, 3572), (7, 3573), (1, 3574), (7, 3575), (7, 3576), (7, 3577), (7, 3578), (7, 3579), (7, 3580), (7, 3581), (7, 3582), (2, 3583), (7, 3584), (1, 3585), (7, 3586), (7, 3587), (1, 3588), (2, 3589), (2, 3590), (7, 3591), (2, 3592), (7, 3593), (7, 3594), (2, 3595), (1, 3596), (2, 3597), (1, 3598), (2, 3599), (1, 3600), (7, 3601), (7, 3602), (1, 3603), (7, 3604), (7, 3605), (7, 3606), (7, 3607), (7, 3608), (7, 3609), (7, 3610), (7, 3611), (7, 3612), (7, 3613), (7, 3614), (7, 3615), (7, 3616), (7, 3617), (7, 3618), (7, 3619), (7, 3620), (7, 3621), (1, 3622), (7, 3623), (7, 3624), (7, 3625), (7, 3626), (7, 3627), (1, 3628), (7, 3629), (1, 3630), (7, 3631), (7, 3632), (7, 3633), (7, 3634), (1, 3635), (2, 3636), (2, 3637), (7, 3638), (2, 3639), (2, 3640), (1, 3641), (2, 3642), (7, 3643), (7, 3644), (1, 3645), (1, 3646), (1, 3647), (7, 3648), (2, 3649), (7, 3650), (7, 3651), (7, 3652), (7, 3653), (7, 3654), (7, 3655), (7, 3656), (7, 3657), (7, 3658), (7, 3659), (7, 3660), (7, 3661), (7, 3662), (7, 3663), (7, 3664), (7, 3665), (7, 3666), (7, 3667), (7, 3668), (7, 3669), (7, 3670), (7, 3671), (7, 3672), (1, 3673), (7, 3674), (7, 3675), (1, 3676), (7, 3677), (7, 3678), (7, 3679), (1, 3680), (7, 3681), (1, 3682), (1, 3683), (7, 3684), (7, 3685), (7, 3686), (7, 3687), (7, 3688), (7, 3689), (1, 3690), (1, 3691), (2, 3692), (2, 3693), (2, 3694), (7, 3695), (7, 3696), (7, 3697), (7, 3698), (1, 3699), (7, 3700), (7, 3701), (7, 3702), (1, 3703), (1, 3704), (7, 3705), (7, 3706), (7, 3707), (1, 3708), (1, 3709), (7, 3710), (7, 3711), (7, 3712), (7, 3713), (7, 3714), (1, 3715), (7, 3716), (7, 3717), (7, 3718), (7, 3719), (1, 3720), (1, 3721), (7, 3722), (7, 3723), (1, 3724), (7, 3725), (1, 3726), (7, 3727), (7, 3728), (1, 3729), (7, 3730), (7, 3731), (1, 3732), (1, 3733), (1, 3734), (7, 3735), (1, 3736), (7, 3737), (1, 3738), (7, 3739), (7, 3740), (7, 3741), (1, 3742), (1, 3743), (1, 3744), (7, 3745), (7, 3746), (7, 3747), (1, 3748), (7, 3749), (7, 3750), (7, 3751), (1, 3752), (1, 3753), (7, 3754), (1, 3755), (1, 3756), (1, 3757), (1, 3758), (1, 3759), (1, 3760), (1, 3761), (1, 3762), (1, 3763), (2, 3764), (7, 3765), (7, 3766), (1, 3767), (2, 3768), (1, 3769), (1, 3770), (1, 3771), (1, 3772), (7, 3773), (7, 3774), (7, 3775), (7, 3776), (2, 3777), (7, 3778), (7, 3779), (7, 3780), (7, 3781), (7, 3782), (7, 3783), (7, 3784), (7, 3785), (7, 3786), (7, 3787), (7, 3788), (7, 3789), (7, 3790), (7, 3791), (7, 3792), (7, 3793), (7, 3794), (7, 3795), (7, 3796), (7, 3797), (7, 3798), (2, 3799), (7, 3800), (7, 3801), (2, 3802), (7, 3803), (7, 3804), (7, 3805), (7, 3806), (7, 3807), (7, 3808), (2, 3809), (7, 3810), (7, 3811), (7, 3812), (1, 3813), (7, 3814), (7, 3815), (1, 3816), (1, 3817), (2, 3818), (2, 3819), (7, 3820), (1, 3821), (7, 3822), (7, 3823), (2, 3824), (7, 3825), (7, 3826), (7, 3827), (7, 3828), (7, 3829), (7, 3830), (1, 3831), (2, 3832), (7, 3833), (1, 3834), (1, 3835), (7, 3836), (7, 3837), (1, 3838), (1, 3839), (7, 3840), (1, 3841), (1, 3842), (7, 3843), (7, 3844), (1, 3845), (7, 3846), (7, 3847), (7, 3848), (7, 3849), (7, 3850), (1, 3851), (7, 3852), (7, 3853), (7, 3854), (7, 3855), (2, 3856), (7, 3857), (7, 3858), (7, 3859), (1, 3860), (7, 3861), (7, 3862), (7, 3863), (7, 3864), (7, 3865), (1, 3866), (1, 3867), (7, 3868), (1, 3869), (1, 3870), (1, 3871), (7, 3872), (7, 3873), (7, 3874), (1, 3875), (7, 3876), (7, 3877), (7, 3878), (7, 3879), (7, 3880), (1, 3881), (1, 3882), (7, 3883), (1, 3884), (1, 3885), (1, 3886), (2, 3887), (2, 3888), (2, 3889), (1, 3890), (1, 3891), (1, 3892), (7, 3893), (1, 3894), (1, 3895), (1, 3896), (7, 3897), (2, 3898), (7, 3899), (2, 3900), (7, 3901), (2, 3902), (2, 3903), (2, 3904), (7, 3905), (2, 3906), (7, 3907), (7, 3908), (7, 3909), (1, 3910), (1, 3911), (7, 3912), (2, 3913), (2, 3914), (1, 3915), (2, 3916), (2, 3917), (7, 3918), (1, 3919), (7, 3920), (2, 3921), (7, 3922), (1, 3923), (1, 3924), (7, 3925), (1, 3926), (7, 3927), (7, 3928), (1, 3929), (7, 3930), (7, 3931), (7, 3932), (7, 3933), (7, 3934), (2, 3935), (1, 3936), (2, 3937), (2, 3938), (7, 3939), (1, 3940), (7, 3941), (7, 3942), (1, 3943), (7, 3944), (7, 3945), (7, 3946), (7, 3947), (7, 3948), (7, 3949), (7, 3950), (7, 3951), (7, 3952), (7, 3953), (1, 3954), (2, 3955), (7, 3956), (7, 3957), (7, 3958), (7, 3959), (7, 3960), (1, 3961), (7, 3962), (7, 3963), (7, 3964), (7, 3965), (7, 3966), (7, 3967), (1, 3968), (7, 3969), (1, 3970), (7, 3971), (7, 3972), (7, 3973), (7, 3974), (1, 3975), (1, 3976), (7, 3977), (7, 3978), (2, 3979), (7, 3980), (1, 3981), (7, 3982), (7, 3983), (7, 3984), (7, 3985), (1, 3986), (7, 3987), (1, 3988), (1, 3989), (1, 3990), (7, 3991), (7, 3992), (7, 3993), (7, 3994), (7, 3995), (1, 3996), (7, 3997), (1, 3998), (1, 3999), (7, 4000), (7, 4001), (1, 4002), (7, 4003), (7, 4004), (7, 4005), (7, 4006), (1, 4007), (7, 4008), (7, 4009), (1, 4010), (7, 4011), (7, 4012), (7, 4013), (7, 4014), (7, 4015), (7, 4016), (7, 4017), (7, 4018), (7, 4019), (1, 4020), (7, 4021), (7, 4022), (1, 4023), (7, 4024), (7, 4025), (1, 4026), (7, 4027), (7, 4028), (7, 4029), (7, 4030), (7, 4031), (7, 4032), (7, 4033), (7, 4034), (7, 4035), (7, 4036), (7, 4037), (1, 4038), (7, 4039), (7, 4040), (7, 4041), (7, 4042), (7, 4043), (7, 4044), (7, 4045), (7, 4046), (7, 4047), (7, 4048), (7, 4049), (7, 4050), (7, 4051), (7, 4052), (7, 4053), (7, 4054), (7, 4055), (1, 4056), (7, 4057), (7, 4058), (7, 4059), (7, 4060), (7, 4061), (7, 4062), (7, 4063), (1, 4064), (1, 4065), (7, 4066), (7, 4067), (7, 4068), (1, 4069), (7, 4070), (1, 4071), (7, 4072), (7, 4073), (7, 4074), (7, 4075), (7, 4076), (2, 4077), (7, 4078), (2, 4079), (7, 4080), (7, 4081), (7, 4082), (1, 4083), (7, 4084), (7, 4085), (2, 4086), (1, 4087), (7, 4088), (7, 4089), (7, 4090), (7, 4091), (7, 4092), (7, 4093), (7, 4094), (1, 4095), (7, 4096), (7, 4097), (1, 4098), (7, 4099), (1, 4100), (1, 4101), (7, 4102), (7, 4103), (1, 4104), (7, 4105), (1, 4106), (7, 4107), (7, 4108), (7, 4109), (1, 4110), (7, 4111), (7, 4112), (7, 4113), (1, 4114), (7, 4115), (7, 4116), (7, 4117), (1, 4118), (7, 4119), (7, 4120), (7, 4121), (7, 4122), (7, 4123), (7, 4124), (1, 4125), (7, 4126), (7, 4127), (7, 4128), (7, 4129), (7, 4130), (7, 4131), (7, 4132), (7, 4133), (7, 4134), (7, 4135), (1, 4136), (1, 4137), (7, 4138), (7, 4139), (1, 4140), (7, 4141), (1, 4142), (1, 4143), (2, 4144), (7, 4145), (1, 4146), (7, 4147), (2, 4148), (1, 4149), (7, 4150), (7, 4151), (7, 4152), (7, 4153), (7, 4154), (2, 4155), (1, 4156), (7, 4157), (1, 4158), (7, 4159), (2, 4160), (7, 4161), (1, 4162), (2, 4163), (7, 4164), (7, 4165), (7, 4166), (2, 4167), (7, 4168), (7, 4169), (7, 4170), (7, 4171), (2, 4172), (1, 4173), (7, 4174), (2, 4175), (7, 4176), (1, 4177), (2, 4178), (1, 4179), (7, 4180), (1, 4181), (1, 4182), (7, 4183), (7, 4184), (7, 4185), (7, 4186), (7, 4187), (7, 4188), (7, 4189), (1, 4190), (7, 4191), (7, 4192), (7, 4193), (1, 4194), (7, 4195), (7, 4196), (7, 4197), (7, 4198), (7, 4199), (7, 4200), (1, 4201), (7, 4202), (2, 4203), (7, 4204), (1, 4205), (7, 4206), (7, 4207), (7, 4208), (1, 4209), (7, 4210), (1, 4211), (7, 4212), (2, 4213), (7, 4214), (7, 4215), (1, 4216), (1, 4217), (7, 4218), (1, 4219), (7, 4220), (7, 4221), (7, 4222), (7, 4223), (7, 4224), (7, 4225), (1, 4226), (7, 4227), (7, 4228), (7, 4229), (7, 4230), (1, 4231), (2, 4232), (7, 4233), (1, 4234), (7, 4235), (7, 4236), (1, 4237), (1, 4238), (7, 4239), (1, 4240), (7, 4241), (7, 4242), (1, 4243), (7, 4244), (7, 4245), (7, 4246), (1, 4247), (7, 4248), (1, 4249), (7, 4250), (7, 4251), (7, 4252), (7, 4253), (1, 4254), (1, 4255), (1, 4256), (7, 4257), (7, 4258), (1, 4259), (1, 4260), (7, 4261), (7, 4262), (2, 4263), (7, 4264), (7, 4265), (7, 4266), (7, 4267), (7, 4268), (7, 4269), (7, 4270), (7, 4271), (1, 4272), (1, 4273), (1, 4274), (7, 4275), (7, 4276), (1, 4277), (7, 4278), (1, 4279), (1, 4280), (1, 4281), (1, 4282), (1, 4283), (7, 4284), (7, 4285), (1, 4286), (2, 4287), (7, 4288), (1, 4289), (1, 4290), (1, 4291), (7, 4292), (7, 4293), (7, 4294), (7, 4295), (1, 4296), (1, 4297), (7, 4298), (7, 4299), (1, 4300), (2, 4301), (1, 4302), (7, 4303), (7, 4304), (7, 4305), (7, 4306), (7, 4307), (7, 4308), (7, 4309), (2, 4310), (7, 4311), (7, 4312), (1, 4313), (7, 4314), (7, 4315), (1, 4316), (1, 4317), (7, 4318), (7, 4319), (1, 4320), (7, 4321), (7, 4322), (1, 4323), (7, 4324), (7, 4325), (7, 4326), (7, 4327), (1, 4328), (1, 4329), (7, 4330), (1, 4331), (7, 4332), (7, 4333), (7, 4334), (1, 4335), (1, 4336), (7, 4337), (7, 4338), (7, 4339), (7, 4340), (1, 4341), (7, 4342), (7, 4343), (7, 4344), (7, 4345), (7, 4346), (1, 4347), (7, 4348), (7, 4349), (7, 4350), (7, 4351), (1, 4352), (7, 4353), (7, 4354), (7, 4355), (7, 4356), (7, 4357), (1, 4358), (7, 4359), (7, 4360), (7, 4361), (7, 4362), (7, 4363), (7, 4364), (7, 4365), (7, 4366), (7, 4367), (1, 4368), (1, 4369), (1, 4370), (1, 4371), (7, 4372), (7, 4373), (1, 4374), (1, 4375), (7, 4376), (1, 4377), (7, 4378), (1, 4379), (7, 4380), (2, 4381), (7, 4382), (1, 4383), (1, 4384), (7, 4385), (1, 4386), (7, 4387), (1, 4388), (7, 4389), (1, 4390), (7, 4391), (1, 4392), (7, 4393), (6, 4394), (7, 4395), (7, 4396), (7, 4397), (7, 4398), (7, 4399), (7, 4400), (7, 4401), (7, 4402), (7, 4403), (7, 4404), (7, 4405), (1, 4406), (1, 4407), (7, 4408), (7, 4409), (1, 4410), (7, 4411), (7, 4412), (7, 4413), (7, 4414), (7, 4415), (7, 4416), (1, 4417), (7, 4418), (7, 4419), (1, 4420), (7, 4421), (7, 4422), (1, 4423), (7, 4424), (1, 4425), (7, 4426), (1, 4427), (7, 4428), (7, 4429), (7, 4430), (7, 4431), (7, 4432), (7, 4433), (7, 4434), (7, 4435), (7, 4436), (7, 4437), (1, 4438), (7, 4439), (1, 4440), (7, 4441), (1, 4442), (7, 4443), (1, 4444), (7, 4445), (7, 4446), (7, 4447), (1, 4448), (1, 4449), (1, 4450), (7, 4451), (1, 4452), (7, 4453), (7, 4454), (7, 4455), (7, 4456), (1, 4457), (7, 4458), (1, 4459), (1, 4460), (7, 4461), (7, 4462), (7, 4463), (7, 4464), (7, 4465), (7, 4466), (7, 4467), (7, 4468), (1, 4469), (7, 4470), (7, 4471), (7, 4472), (7, 4473), (7, 4474), (7, 4475), (7, 4476), (7, 4477), (7, 4478), (7, 4479), (1, 4480), (7, 4481), (7, 4482), (7, 4483), (7, 4484), (1, 4485), (7, 4486), (7, 4487), (7, 4488), (1, 4489), (7, 4490), (1, 4491), (7, 4492), (7, 4493), (1, 4494), (7, 4495), (7, 4496), (1, 4497), (1, 4498), (7, 4499), (7, 4500), (1, 4501), (7, 4502), (7, 4503), (7, 4504), (7, 4505), (1, 4506), (1, 4507), (1, 4508), (7, 4509), (7, 4510), (7, 4511), (7, 4512), (1, 4513), (1, 4514), (7, 4515), (7, 4516), (7, 4517), (7, 4518), (7, 4519), (7, 4520), (7, 4521), (7, 4522), (7, 4523), (7, 4524), (7, 4525), (7, 4526), (7, 4527), (7, 4528), (1, 4529), (2, 4530), (6, 4531), (1, 4532), (7, 4533), (7, 4534), (7, 4535), (7, 4536), (7, 4537), (7, 4538), (1, 4539), (1, 4540), (7, 4541), (1, 4542), (7, 4543), (7, 4544), (7, 4545), (7, 4546), (7, 4547), (7, 4548), (7, 4549), (1, 4550), (7, 4551), (1, 4552), (7, 4553), (7, 4554), (1, 4555), (1, 4556), (1, 4557), (7, 4558), (1, 4559), (7, 4560), (7, 4561), (1, 4562), (7, 4563), (1, 4564), (7, 4565), (7, 4566), (7, 4567), (7, 4568), (7, 4569), (7, 4570), (7, 4571), (7, 4572), (7, 4573), (1, 4574), (7, 4575), (7, 4576), (7, 4577), (1, 4578), (7, 4579), (7, 4580), (7, 4581), (7, 4582), (7, 4583), (1, 4584), (7, 4585), (7, 4586), (7, 4587), (7, 4588), (7, 4589), (7, 4590), (1, 4591), (7, 4592), (7, 4593), (7, 4594), (7, 4595), (1, 4596), (7, 4597), (7, 4598), (1, 4599), (7, 4600), (1, 4601), (7, 4602), (7, 4603), (1, 4604), (7, 4605), (1, 4606), (7, 4607), (1, 4608), (1, 4609), (1, 4610), (7, 4611), (7, 4612), (7, 4613), (1, 4614), (1, 4615), (7, 4616), (2, 4617), (7, 4618), (1, 4619), (7, 4620), (1, 4621), (7, 4622), (1, 4623), (7, 4624), (7, 4625), (7, 4626), (7, 4627), (7, 4628), (7, 4629), (1, 4630), (7, 4631), (1, 4632), (7, 4633), (7, 4634), (7, 4635), (7, 4636), (1, 4637), (7, 4638), (7, 4639), (7, 4640), (7, 4641), (1, 4642), (7, 4643), (7, 4644), (1, 4645), (7, 4646), (1, 4647), (7, 4648), (7, 4649), (1, 4650), (7, 4651), (7, 4652), (7, 4653), (7, 4654), (1, 4655), (7, 4656), (7, 4657), (7, 4658), (2, 4659), (1, 4660), (7, 4661), (7, 4662), (1, 4663), (7, 4664), (1, 4665), (7, 4666), (7, 4667), (1, 4668), (1, 4669), (1, 4670), (7, 4671), (7, 4672), (7, 4673), (7, 4674), (7, 4675), (1, 4676), (1, 4677), (1, 4678), (7, 4679), (1, 4680), (7, 4681), (7, 4682), (7, 4683), (7, 4684), (7, 4685), (1, 4686), (7, 4687), (7, 4688), (7, 4689), (7, 4690), (7, 4691), (7, 4692), (7, 4693), (1, 4694), (7, 4695), (7, 4696), (7, 4697), (7, 4698), (7, 4699), (7, 4700), (7, 4701), (7, 4702), (7, 4703), (1, 4704), (7, 4705), (1, 4706), (1, 4707), (7, 4708), (7, 4709), (1, 4710), (1, 4711), (7, 4712), (7, 4713), (7, 4714), (7, 4715), (7, 4716), (7, 4717), (1, 4718), (7, 4719), (7, 4720), (1, 4721), (1, 4722), (7, 4723), (7, 4724), (7, 4725), (7, 4726), (7, 4727), (7, 4728), (7, 4729), (7, 4730), (7, 4731), (7, 4732), (7, 4733), (7, 4734), (7, 4735), (7, 4736), (7, 4737), (7, 4738), (7, 4739), (7, 4740), (7, 4741), (1, 4742), (1, 4743), (7, 4744), (7, 4745), (7, 4746), (7, 4747), (1, 4748), (7, 4749), (1, 4750), (7, 4751), (7, 4752), (7, 4753), (7, 4754), (7, 4755), (7, 4756), (7, 4757), (7, 4758), (1, 4759), (1, 4760), (1, 4761), (1, 4762), (1, 4763), (7, 4764), (7, 4765), (7, 4766), (1, 4767), (7, 4768), (1, 4769), (1, 4770), (7, 4771), (7, 4772), (1, 4773), (7, 4774), (1, 4775), (7, 4776), (1, 4777), (7, 4778), (7, 4779), (7, 4780), (7, 4781), (1, 4782), (7, 4783), (7, 4784), (1, 4785), (7, 4786), (7, 4787), (7, 4788), (7, 4789), (7, 4790), (7, 4791), (1, 4792), (7, 4793), (7, 4794), (1, 4795), (7, 4796), (7, 4797), (7, 4798), (7, 4799), (7, 4800), (7, 4801), (1, 4802), (1, 4803), (7, 4804), (7, 4805), (7, 4806), (1, 4807), (7, 4808), (7, 4809), (7, 4810), (7, 4811), (7, 4812), (7, 4813), (7, 4814), (7, 4815), (7, 4816), (7, 4817), (1, 4818), (1, 4819), (1, 4820), (1, 4821), (1, 4822), (1, 4823), (1, 4824), (1, 4825), (1, 4826), (1, 4827), (1, 4828), (1, 4829), (1, 4830), (1, 4831), (1, 4832), (1, 4833), (1, 4834), (1, 4835), (1, 4836), (1, 4837), (1, 4838), (1, 4839), (1, 4840), (1, 4841), (1, 4842), (1, 4843), (1, 4844), (1, 4845), (1, 4846), (1, 4847), (1, 4848), (1, 4849), (1, 4850), (1, 4851), (1, 4852), (1, 4853), (1, 4854), (1, 4855), (1, 4856), (1, 4857), (1, 4858), (2, 4859), (2, 4860), (1, 4861), (1, 4862), (2, 4863), (1, 4864), (1, 4865), (2, 4866), (1, 4867), (2, 4868), (1, 4869), (1, 4870), (1, 4871), (1, 4872), (1, 4873), (1, 4874), (2, 4875), (1, 4876), (1, 4877), (1, 4878), (1, 4879), (1, 4880), (1, 4881), (1, 4882), (1, 4883), (2, 4884), (1, 4885), (1, 4886), (1, 4887), (1, 4888), (1, 4889), (2, 4890), (1, 4891), (1, 4892), (1, 4893), (2, 4894), (1, 4895), (1, 4896), (1, 4897), (1, 4898), (1, 4899), (1, 4900), (1, 4901), (1, 4902), (2, 4903), (1, 4904), (1, 4905), (2, 4906), (2, 4907), (1, 4908), (1, 4909), (1, 4910), (1, 4911), (1, 4912), (2, 4913), (1, 4914), (2, 4915), (1, 4916), (1, 4917), (1, 4918), (1, 4919), (1, 4920), (1, 4921), (1, 4922), (1, 4923), (1, 4924), (1, 4925), (2, 4926), (1, 4927), (1, 4928), (1, 4929), (1, 4930), (1, 4931), (1, 4932), (1, 4933), (2, 4934), (1, 4935), (1, 4936), (1, 4937), (1, 4938), (1, 4939), (1, 4940), (1, 4941), (1, 4942), (1, 4943), (1, 4944), (1, 4945), (1, 4946), (1, 4947), (1, 4948), (1, 4949), (1, 4950), (1, 4951), (1, 4952), (1, 4953), (1, 4954), (1, 4955), (1, 4956), (1, 4957), (1, 4958), (1, 4959), (1, 4960), (1, 4961), (1, 4962), (1, 4963), (1, 4964), (1, 4965), (1, 4966), (1, 4967), (1, 4968), (1, 4969), (1, 4970), (1, 4971), (1, 4972), (1, 4973), (1, 4974), (1, 4975), (1, 4976), (7, 4977), (1, 4978), (1, 4979), (1, 4980), (1, 4981), (1, 4982), (1, 4983), (1, 4984), (1, 4985), (1, 4986), (1, 4987), (1, 4988), (1, 4989), (1, 4990), (1, 4991), (1, 4992), (1, 4993), (1, 4994), (1, 4995), (1, 4996), (1, 4997), (1, 4998), (1, 4999), (1, 5000), (1, 5001), (1, 5002), (1, 5003), (1, 5004), (1, 5005), (1, 5006), (1, 5007), (1, 5008), (1, 5009), (1, 5010), (1, 5011), (1, 5012), (1, 5013), (1, 5014), (1, 5015), (1, 5016), (1, 5017), (1, 5018), (1, 5019), (1, 5020), (1, 5021), (1, 5022), (3, 5023), (1, 5024), (1, 5025), (1, 5026), (1, 5027), (1, 5028), (1, 5029), (1, 5030), (1, 5031), (1, 5032), (1, 5033), (1, 5034), (1, 5035), (1, 5036), (1, 5037), (1, 5038), (1, 5039), (1, 5040), (1, 5041), (1, 5042), (2, 5043), (1, 5044), (1, 5045), (1, 5046), (1, 5047), (1, 5048), (1, 5049), (1, 5050), (1, 5051), (1, 5052), (1, 5053), (1, 5054), (1, 5055), (1, 5056), (1, 5057), (1, 5058), (1, 5059), (1, 5060), (1, 5061), (1, 5062), (2, 5063), (1, 5064), (1, 5065), (1, 5066), (1, 5067), (1, 5068), (1, 5069), (1, 5070), (1, 5071), (1, 5072), (2, 5073), (1, 5074), (1, 5075), (1, 5076), (1, 5077), (1, 5078), (1, 5079), (1, 5080), (1, 5081), (1, 5082), (1, 5083), (1, 5084), (1, 5085), (1, 5086), (1, 5087), (1, 5088), (1, 5089), (1, 5090), (1, 5091), (1, 5092), (1, 5093), (1, 5094), (1, 5095), (1, 5096), (1, 5097), (1, 5098), (1, 5099), (1, 5100), (1, 5101), (1, 5102), (1, 5103), (1, 5104), (1, 5105), (1, 5106), (1, 5107), (2, 5108), (1, 5109), (1, 5110), (1, 5111), (1, 5112), (1, 5113), (1, 5114), (1, 5115), (1, 5116), (7, 5117), (1, 5118), (1, 5119), (1, 5120), (1, 5121), (1, 5122), (1, 5123), (1, 5124), (1, 5125), (1, 5126), (1, 5127), (1, 5128), (1, 5129), (1, 5130), (1, 5131), (1, 5132), (1, 5133), (1, 5134), (1, 5135), (1, 5136), (1, 5137), (1, 5138), (1, 5139), (1, 5140), (1, 5141), (1, 5142), (1, 5143), (1, 5144), (1, 5145), (1, 5146), (1, 5147), (1, 5148), (1, 5149), (1, 5150), (1, 5151), (1, 5152), (1, 5153), (1, 5154), (1, 5155), (1, 5156), (1, 5157), (1, 5158), (1, 5159), (1, 5160), (1, 5161), (1, 5162), (1, 5163), (1, 5164), (1, 5165), (1, 5166), (1, 5167), (1, 5168), (1, 5169), (1, 5170), (1, 5171), (1, 5172), (1, 5173), (1, 5174), (2, 5175), (1, 5176), (1, 5177), (1, 5178), (1, 5179), (2, 5180), (1, 5181), (7, 5182), (1, 5183), (1, 5184), (1, 5185), (2, 5186), (1, 5187), (1, 5188), (1, 5189), (1, 5190), (1, 5191), (1, 5192), (1, 5193), (1, 5194), (1, 5195), (1, 5196), (1, 5197), (1, 5198), (1, 5199), (1, 5200), (1, 5201), (1, 5202), (1, 5203), (1, 5204), (1, 5205), (1, 5206), (1, 5207), (1, 5208), (1, 5209), (1, 5210), (1, 5211), (2, 5212), (1, 5213), (1, 5214), (1, 5215), (1, 5216), (1, 5217), (1, 5218), (1, 5219), (1, 5220), (1, 5221), (1, 5222), (1, 5223), (1, 5224), (1, 5225), (1, 5226), (1, 5227), (1, 5228), (1, 5229), (1, 5230), (1, 5231), (1, 5232), (1, 5233), (1, 5234), (1, 5235), (1, 5236), (1, 5237), (1, 5238), (1, 5239), (1, 5240), (1, 5241), (1, 5242), (1, 5243), (1, 5244), (1, 5245), (1, 5246), (1, 5247), (1, 5248), (1, 5249), (1, 5250), (1, 5251), (1, 5252), (1, 5253), (1, 5254), (1, 5255), (1, 5256), (1, 5257), (1, 5258), (1, 5259), (1, 5260), (1, 5261), (1, 5262), (1, 5263), (1, 5264), (1, 5265), (1, 5266), (1, 5267), (1, 5268), (1, 5269), (1, 5270), (1, 5271), (1, 5272), (1, 5273), (1, 5274), (1, 5275), (1, 5276), (1, 5277), (1, 5278), (2, 5279), (1, 5280), (1, 5281), (1, 5282), (1, 5283), (1, 5284), (1, 5285), (1, 5286), (1, 5287), (1, 5288), (1, 5289), (1, 5290), (1, 5291), (1, 5292), (1, 5293), (1, 5294), (1, 5295), (1, 5296), (1, 5297), (1, 5298), (1, 5299), (1, 5300), (1, 5301), (1, 5302), (1, 5303), (1, 5304), (1, 5305), (2, 5306), (1, 5307), (1, 5308), (1, 5309), (1, 5310), (1, 5311), (1, 5312), (1, 5313), (1, 5314), (1, 5315), (1, 5316), (1, 5317), (1, 5318), (1, 5319), (1, 5320), (1, 5321), (1, 5322), (1, 5323), (1, 5324), (1, 5325), (1, 5326), (1, 5327), (1, 5328), (1, 5329), (1, 5330), (1, 5331), (1, 5332), (1, 5333), (1, 5334), (1, 5335), (1, 5336), (1, 5337), (1, 5338), (1, 5339), (1, 5340), (1, 5341), (1, 5342), (1, 5343), (1, 5344), (1, 5345), (1, 5346), (1, 5347), (1, 5348), (1, 5349), (1, 5350), (1, 5351), (1, 5352), (1, 5353), (1, 5354), (1, 5355), (1, 5356), (1, 5357), (1, 5358), (1, 5359), (1, 5360), (1, 5361), (1, 5362), (1, 5363), (1, 5364), (1, 5365), (1, 5366), (1, 5367), (1, 5368), (1, 5369), (1, 5370), (1, 5371), (1, 5372), (1, 5373), (1, 5374), (1, 5375), (1, 5376), (1, 5377), (1, 5378), (1, 5379), (1, 5380), (1, 5381), (1, 5382), (1, 5383), (1, 5384), (1, 5385), (2, 5386), (1, 5387), (1, 5388), (1, 5389), (1, 5390), (1, 5391), (1, 5392), (2, 5393), (1, 5394), (1, 5395), (1, 5396), (1, 5397), (1, 5398), (1, 5399), (1, 5400), (1, 5401), (1, 5402), (1, 5403), (1, 5404), (1, 5405), (1, 5406), (1, 5407), (1, 5408), (1, 5409), (1, 5410), (1, 5411), (1, 5412), (1, 5413), (1, 5414), (1, 5415), (1, 5416), (1, 5417), (1, 5418), (1, 5419), (1, 5420), (1, 5421), (1, 5422), (1, 5423), (1, 5424), (1, 5425), (1, 5426), (1, 5427), (1, 5428), (1, 5429), (1, 5430), (1, 5431), (1, 5432), (1, 5433), (1, 5434), (1, 5435), (1, 5436), (1, 5437), (1, 5438), (1, 5439), (1, 5440), (1, 5441), (1, 5442), (1, 5443), (1, 5444), (1, 5445), (1, 5446), (1, 5447), (1, 5448), (1, 5449), (1, 5450), (1, 5451), (6, 5452), (1, 5453), (1, 5454), (1, 5455), (1, 5456), (1, 5457), (1, 5458), (1, 5459), (1, 5460), (1, 5461), (1, 5462), (1, 5463), (1, 5464), (1, 5465), (1, 5466), (1, 5467), (1, 5468), (1, 5469), (1, 5470), (1, 5471), (1, 5472), (1, 5473), (1, 5474), (1, 5475), (1, 5476), (1, 5477), (1, 5478), (1, 5479), (1, 5480), (1, 5481), (1, 5482), (1, 5483), (1, 5484), (1, 5485), (1, 5486), (1, 5487), (1, 5488), (1, 5489), (1, 5490), (1, 5491), (1, 5492), (1, 5493), (1, 5494), (1, 5495), (1, 5496), (1, 5497), (1, 5498), (1, 5499), (1, 5500), (1, 5501), (1, 5502), (1, 5503), (1, 5504), (1, 5505), (1, 5506), (1, 5507), (2, 5508), (1, 5509), (6, 5510), (1, 5511), (1, 5512), (1, 5513), (1, 5514), (1, 5515), (1, 5516), (1, 5517), (1, 5518), (1, 5519), (1, 5520), (1, 5521), (1, 5522), (1, 5523), (1, 5524), (1, 5525), (1, 5526), (1, 5527), (1, 5528), (1, 5529), (2, 5530), (1, 5531), (1, 5532), (1, 5533), (1, 5534), (1, 5535), (1, 5536), (1, 5537), (1, 5538), (1, 5539), (1, 5540), (1, 5541), (1, 5542), (1, 5543), (1, 5544), (1, 5545), (1, 5546), (1, 5547), (1, 5548), (1, 5549), (1, 5550), (1, 5551), (1, 5552), (1, 5553), (1, 5554), (1, 5555), (1, 5556), (1, 5557), (1, 5558), (1, 5559), (1, 5560), (1, 5561), (1, 5562), (1, 5563), (1, 5564), (1, 5565), (1, 5566), (1, 5567), (1, 5568), (1, 5569), (1, 5570), (1, 5571), (1, 5572), (1, 5573), (2, 5574), (1, 5575), (1, 5576), (7, 5577), (1, 5578), (1, 5579), (1, 5580), (1, 5581), (1, 5582), (1, 5583), (1, 5584), (1, 5585), (1, 5586), (1, 5587), (1, 5588), (1, 5589), (1, 5590), (1, 5591), (1, 5592), (1, 5593), (1, 5594), (1, 5595), (1, 5596), (1, 5597), (1, 5598), (1, 5599), (1, 5600), (1, 5601), (1, 5602), (1, 5603), (1, 5604), (1, 5605), (1, 5606), (1, 5607), (1, 5608), (1, 5609), (1, 5610), (1, 5611), (1, 5612), (1, 5613), (1, 5614), (1, 5615), (1, 5616), (1, 5617), (1, 5618), (1, 5619), (1, 5620), (1, 5621), (1, 5622), (1, 5623), (1, 5624), (1, 5625), (1, 5626), (1, 5627), (6, 5628), (1, 5629), (1, 5630), (1, 5631), (1, 5632), (1, 5633), (1, 5634), (1, 5635), (1, 5636), (1, 5637), (1, 5638), (1, 5639), (1, 5640), (1, 5641), (1, 5642), (1, 5643), (1, 5644), (1, 5645), (1, 5646), (1, 5647), (1, 5648), (1, 5649), (1, 5650), (1, 5651), (1, 5652), (1, 5653), (1, 5654), (1, 5655), (1, 5656), (1, 5657), (1, 5658), (1, 5659), (1, 5660), (1, 5661), (1, 5662), (1, 5663), (1, 5664), (1, 5665), (1, 5666), (1, 5667), (1, 5668), (1, 5669), (1, 5670), (1, 5671), (1, 5672), (1, 5673), (1, 5674), (1, 5675), (1, 5676), (1, 5677), (1, 5678), (2, 5679), (1, 5680), (1, 5681), (1, 5682), (1, 5683), (1, 5684), (1, 5685), (1, 5686), (1, 5687), (1, 5688), (1, 5689), (1, 5690), (1, 5691), (1, 5692), (1, 5693), (1, 5694), (1, 5695), (1, 5696), (1, 5697), (1, 5698), (1, 5699), (1, 5700), (1, 5701), (1, 5702), (1, 5703), (1, 5704), (1, 5705), (1, 5706), (1, 5707), (1, 5708), (1, 5709), (1, 5710), (1, 5711), (1, 5712), (1, 5713), (1, 5714), (1, 5715), (1, 5716), (1, 5717), (1, 5718), (1, 5719), (1, 5720), (1, 5721), (1, 5722), (1, 5723), (1, 5724), (1, 5725), (1, 5726), (1, 5727), (1, 5728), (1, 5729), (1, 5730), (1, 5731), (1, 5732), (1, 5733), (1, 5734), (1, 5735), (1, 5736), (1, 5737), (1, 5738), (1, 5739), (2, 5740), (1, 5741), (1, 5742), (1, 5743), (2, 5744), (1, 5745), (2, 5746), (1, 5747), (1, 5748), (1, 5749), (1, 5750), (1, 5751), (1, 5752), (1, 5753), (1, 5754), (1, 5755), (1, 5756), (1, 5757), (1, 5758), (1, 5759), (1, 5760), (1, 5761), (1, 5762), (1, 5763), (1, 5764), (1, 5765), (1, 5766), (1, 5767), (1, 5768), (1, 5769), (1, 5770), (1, 5771), (1, 5772), (1, 5773), (1, 5774), (1, 5775), (1, 5776), (1, 5777), (1, 5778), (1, 5779), (1, 5780), (1, 5781), (1, 5782), (1, 5783), (1, 5784), (1, 5785), (1, 5786), (1, 5787), (1, 5788), (1, 5789), (1, 5790), (1, 5791), (1, 5792), (1, 5793), (1, 5794), (1, 5795), (1, 5796), (1, 5797), (1, 5798), (1, 5799), (1, 5800), (1, 5801), (1, 5802), (1, 5803), (1, 5804), (1, 5805), (1, 5806), (1, 5807), (1, 5808), (1, 5809), (1, 5810), (1, 5811), (1, 5812), (1, 5813), (1, 5814), (1, 5815), (1, 5816), (1, 5817), (1, 5818), (1, 5819), (1, 5820), (1, 5821), (1, 5822), (1, 5823), (1, 5824), (2, 5825), (1, 5826), (1, 5827), (1, 5828), (1, 5829), (1, 5830), (1, 5831), (1, 5832), (1, 5833), (1, 5834), (1, 5835), (1, 5836), (1, 5837), (1, 5838), (1, 5839), (1, 5840), (1, 5841), (1, 5842), (1, 5843), (1, 5844), (1, 5845), (1, 5846), (1, 5847), (1, 5848), (1, 5849), (1, 5850), (1, 5851), (2, 5852), (1, 5853), (1, 5854), (1, 5855), (1, 5856), (1, 5857), (1, 5858), (1, 5859), (1, 5860), (1, 5861), (1, 5862), (1, 5863), (1, 5864), (1, 5865), (1, 5866), (1, 5867), (1, 5868), (1, 5869), (1, 5870), (1, 5871), (1, 5872), (1, 5873), (1, 5874), (1, 5875), (1, 5876), (1, 5877), (1, 5878), (1, 5879), (1, 5880), (1, 5881), (1, 5882), (1, 5883), (1, 5884), (1, 5885), (1, 5886), (1, 5887), (1, 5888), (1, 5889), (1, 5890), (1, 5891), (1, 5892), (1, 5893), (1, 5894), (1, 5895), (1, 5896), (1, 5897), (1, 5898), (1, 5899), (1, 5900), (1, 5901), (1, 5902), (1, 5903), (1, 5904), (1, 5905), (1, 5906), (1, 5907), (1, 5908), (1, 5909), (1, 5910), (2, 5911), (1, 5912), (2, 5913), (1, 5914), (1, 5915), (1, 5916), (1, 5917), (1, 5918), (1, 5919), (1, 5920), (1, 5921), (1, 5922), (1, 5923), (1, 5924), (1, 5925), (2, 5926), (1, 5927), (1, 5928), (1, 5929), (1, 5930), (1, 5931), (1, 5932), (1, 5933), (1, 5934), (1, 5935), (1, 5936), (1, 5937), (1, 5938), (1, 5939), (1, 5940), (1, 5941), (1, 5942), (1, 5943), (1, 5944), (1, 5945), (1, 5946), (1, 5947), (1, 5948), (1, 5949), (1, 5950), (1, 5951), (1, 5952), (1, 5953), (1, 5954), (1, 5955), (1, 5956), (1, 5957), (1, 5958), (1, 5959), (1, 5960), (1, 5961), (1, 5962), (1, 5963), (1, 5964), (1, 5965), (1, 5966), (1, 5967), (1, 5968), (1, 5969), (1, 5970), (1, 5971), (1, 5972), (1, 5973), (1, 5974), (1, 5975), (1, 5976), (1, 5977), (1, 5978), (1, 5979), (1, 5980), (1, 5981), (1, 5982), (1, 5983), (1, 5984), (1, 5985), (1, 5986), (1, 5987), (1, 5988), (1, 5989), (1, 5990), (1, 5991), (1, 5992), (1, 5993), (1, 5994), (1, 5995), (1, 5996), (1, 5997), (1, 5998), (1, 5999), (1, 6000), (1, 6001), (1, 6002), (1, 6003), (7, 6004), (1, 6005), (1, 6006), (1, 6007), (1, 6008), (1, 6009), (1, 6010), (1, 6011), (1, 6012), (1, 6013), (1, 6014), (1, 6015), (1, 6016), (1, 6017), (1, 6018), (1, 6019), (1, 6020), (1, 6021), (1, 6022), (1, 6023), (1, 6024), (1, 6025), (1, 6026), (1, 6027), (1, 6028), (1, 6029), (1, 6030), (1, 6031), (1, 6032), (1, 6033), (1, 6034), (1, 6035), (1, 6036), (1, 6037), (1, 6038), (1, 6039), (1, 6040), (1, 6041), (1, 6042), (1, 6043), (1, 6044), (1, 6045), (1, 6046), (1, 6047), (1, 6048), (1, 6049), (1, 6050), (1, 6051), (1, 6052), (1, 6053), (1, 6054), (1, 6055), (1, 6056), (1, 6057), (1, 6058), (1, 6059), (1, 6060), (1, 6061), (1, 6062), (1, 6063), (1, 6064), (1, 6065), (1, 6066), (1, 6067), (1, 6068), (1, 6069), (1, 6070), (1, 6071), (1, 6072), (1, 6073), (1, 6074), (2, 6075), (1, 6076), (1, 6077), (1, 6078), (1, 6079), (1, 6080), (1, 6081), (1, 6082), (1, 6083), (1, 6084), (7, 6085), (1, 6086), (1, 6087), (1, 6088), (1, 6089), (1, 6090), (1, 6091), (1, 6092), (1, 6093), (1, 6094), (1, 6095), (1, 6096), (1, 6097), (1, 6098), (1, 6099), (1, 6100), (1, 6101), (1, 6102), (1, 6103), (1, 6104), (1, 6105), (1, 6106), (1, 6107), (1, 6108), (1, 6109), (1, 6110), (1, 6111), (1, 6112), (1, 6113), (1, 6114), (1, 6115), (1, 6116), (1, 6117), (1, 6118), (1, 6119), (1, 6120), (1, 6121), (1, 6122), (1, 6123), (1, 6124), (1, 6125), (1, 6126), (1, 6127), (1, 6128), (1, 6129), (1, 6130), (1, 6131), (1, 6132), (1, 6133), (1, 6134), (1, 6135), (1, 6136), (1, 6137), (1, 6138), (1, 6139), (1, 6140), (1, 6141), (1, 6142), (1, 6143), (1, 6144), (1, 6145), (1, 6146), (1, 6147), (1, 6148), (1, 6149), (1, 6150), (1, 6151), (1, 6152), (1, 6153), (1, 6154), (1, 6155), (1, 6156), (1, 6157), (1, 6158), (1, 6159), (1, 6160), (1, 6161), (1, 6162), (1, 6163), (1, 6164), (1, 6165), (1, 6166), (1, 6167), (1, 6168), (1, 6169), (1, 6170), (1, 6171), (1, 6172), (1, 6173), (2, 6174), (1, 6175), (1, 6176), (1, 6177), (1, 6178), (1, 6179), (1, 6180), (1, 6181), (1, 6182), (1, 6183), (1, 6184), (1, 6185), (1, 6186), (1, 6187), (1, 6188), (1, 6189), (1, 6190), (2, 6191), (2, 6192), (2, 6193), (2, 6194), (1, 6195), (2, 6196), (2, 6197), (1, 6198), (2, 6199), (2, 6200), (2, 6201), (1, 6202), (1, 6203), (1, 6204), (1, 6205), (1, 6206), (2, 6207), (1, 6208), (1, 6209), (1, 6210), (2, 6211), (2, 6212), (1, 6213), (1, 6214), (1, 6215), (2, 6216), (1, 6217), (1, 6218), (1, 6219), (1, 6220), (1, 6221), (1, 6222), (1, 6223), (1, 6224), (1, 6225), (1, 6226), (1, 6227), (1, 6228), (1, 6229), (1, 6230), (1, 6231), (1, 6232), (1, 6233), (1, 6234), (1, 6235), (1, 6236), (1, 6237), (1, 6238), (1, 6239), (1, 6240), (1, 6241), (1, 6242), (1, 6243), (1, 6244), (1, 6245), (1, 6246), (1, 6247), (1, 6248), (1, 6249), (1, 6250), (1, 6251), (1, 6252), (1, 6253), (1, 6254), (1, 6255), (1, 6256), (1, 6257), (1, 6258), (1, 6259), (1, 6260), (1, 6261), (1, 6262), (1, 6263), (1, 6264), (1, 6265), (1, 6266), (1, 6267), (1, 6268), (1, 6269), (1, 6270), (1, 6271), (1, 6272), (1, 6273), (1, 6274), (1, 6275), (1, 6276), (1, 6277), (1, 6278), (1, 6279), (1, 6280), (1, 6281), (1, 6282), (1, 6283), (1, 6284), (1, 6285), (1, 6286), (1, 6287), (1, 6288), (1, 6289), (1, 6290), (1, 6291), (1, 6292), (1, 6293), (2, 6294), (1, 6295), (1, 6296), (1, 6297), (1, 6298), (1, 6299), (1, 6300), (1, 6301), (1, 6302), (1, 6303), (1, 6304), (2, 6305), (1, 6306), (1, 6307), (1, 6308), (1, 6309), (1, 6310), (2, 6311), (1, 6312), (1, 6313), (1, 6314), (1, 6315), (1, 6316), (1, 6317), (1, 6318), (1, 6319), (1, 6320), (1, 6321), (2, 6322), (3, 6323), (5, 6324), (2, 6325), (1, 6326), (1, 6327), (2, 6328), (1, 6329), (1, 6330), (1, 6331), (2, 6332), (2, 6333), (1, 6334), (2, 6335), (1, 6336), (1, 6337), (1, 6338), (1, 6339), (2, 6340), (2, 6341), (1, 6342), (1, 6343), (2, 6344), (1, 6345), (2, 6346), (1, 6347), (5, 6348), (1, 6349), (2, 6350), (1, 6351), (1, 6352), (1, 6353), (1, 6354), (1, 6355), (1, 6356), (1, 6357), (2, 6358), (1, 6359), (1, 6360), (1, 6361), (2, 6362), (1, 6363), (1, 6364), (1, 6365), (1, 6366), (1, 6367), (1, 6368), (1, 6369), (1, 6370), (1, 6371), (1, 6372), (1, 6373), (1, 6374), (1, 6375), (1, 6376), (1, 6377), (2, 6378), (1, 6379), (1, 6380), (1, 6381), (1, 6382), (1, 6383), (1, 6384), (1, 6385), (1, 6386), (1, 6387), (1, 6388), (1, 6389), (1, 6390), (1, 6391), (1, 6392), (1, 6393), (1, 6394), (1, 6395), (1, 6396), (1, 6397), (1, 6398), (2, 6399), (2, 6400), (1, 6401), (1, 6402), (1, 6403), (1, 6404), (1, 6405), (1, 6406), (2, 6407), (1, 6408), (1, 6409), (1, 6410), (1, 6411), (1, 6412), (1, 6413), (1, 6414), (1, 6415), (2, 6416), (1, 6417), (2, 6418), (1, 6419), (2, 6420), (1, 6421), (1, 6422), (1, 6423), (1, 6424), (1, 6425), (2, 6426), (1, 6427), (1, 6428), (1, 6429), (1, 6430), (1, 6431), (1, 6432), (1, 6433), (1, 6434), (1, 6435), (1, 6436), (1, 6437), (1, 6438), (1, 6439), (1, 6440), (1, 6441), (1, 6442), (1, 6443), (1, 6444), (1, 6445), (1, 6446), (1, 6447), (1, 6448), (2, 6449), (1, 6450), (1, 6451), (1, 6452), (1, 6453), (1, 6454), (2, 6455), (1, 6456), (1, 6457), (1, 6458), (1, 6459), (1, 6460), (1, 6461), (1, 6462), (1, 6463), (1, 6464), (1, 6465), (1, 6466), (1, 6467), (1, 6468), (1, 6469), (1, 6470), (1, 6471), (1, 6472), (1, 6473), (1, 6474), (1, 6475), (2, 6476), (1, 6477), (1, 6478), (1, 6479), (1, 6480), (1, 6481), (1, 6482), (1, 6483), (1, 6484), (2, 6485), (1, 6486), (1, 6487), (1, 6488), (1, 6489), (1, 6490), (1, 6491), (2, 6492), (1, 6493), (1, 6494), (1, 6495), (1, 6496), (2, 6497), (1, 6498), (1, 6499), (1, 6500), (2, 6501), (1, 6502), (1, 6503), (1, 6504), (1, 6505), (1, 6506), (1, 6507), (1, 6508), (2, 6509), (1, 6510), (1, 6511), (1, 6512), (1, 6513), (1, 6514), (1, 6515), (1, 6516), (2, 6517), (1, 6518), (1, 6519), (1, 6520), (2, 6521), (1, 6522), (1, 6523), (1, 6524), (1, 6525), (1, 6526), (1, 6527), (2, 6528), (2, 6529), (1, 6530), (1, 6531), (1, 6532), (1, 6533), (1, 6534), (3, 6535), (1, 6536), (3, 6537), (1, 6538), (1, 6539), (1, 6540), (1, 6541), (2, 6542), (1, 6543), (1, 6544), (1, 6545), (1, 6546), (1, 6547), (1, 6548), (1, 6549), (2, 6550), (1, 6551), (2, 6552), (1, 6553), (1, 6554), (2, 6555), (1, 6556), (1, 6557), (1, 6558), (2, 6559), (1, 6560), (1, 6561), (2, 6562), (6, 6563), (1, 6564), (1, 6565), (1, 6566), (1, 6567), (1, 6568), (1, 6569), (1, 6570), (1, 6571), (1, 6572), (1, 6573), (1, 6574), (1, 6575), (1, 6576), (1, 6577), (1, 6578), (1, 6579), (1, 6580), (1, 6581), (1, 6582), (1, 6583), (1, 6584), (1, 6585), (1, 6586), (2, 6587), (1, 6588), (1, 6589), (1, 6590), (1, 6591), (1, 6592), (1, 6593), (1, 6594), (1, 6595), (1, 6596), (1, 6597), (1, 6598), (1, 6599), (1, 6600), (1, 6601), (1, 6602), (1, 6603), (1, 6604), (2, 6605), (1, 6606), (1, 6607), (1, 6608), (1, 6609), (1, 6610), (1, 6611), (1, 6612), (1, 6613), (2, 6614), (1, 6615), (1, 6616), (1, 6617), (1, 6618), (1, 6619), (1, 6620), (1, 6621), (1, 6622), (2, 6623), (1, 6624), (1, 6625), (1, 6626), (1, 6627), (2, 6628), (1, 6629), (1, 6630), (1, 6631), (1, 6632), (1, 6633), (1, 6634), (2, 6635), (2, 6636), (1, 6637), (1, 6638), (1, 6639), (2, 6640), (2, 6641), (1, 6642), (2, 6643), (2, 6644), (1, 6645), (1, 6646), (1, 6647), (2, 6648), (2, 6649), (2, 6650), (1, 6651), (1, 6652), (1, 6653), (2, 6654), (5, 6655), (1, 6656), (2, 6657), (2, 6658), (2, 6659), (2, 6660), (1, 6661), (2, 6662), (1, 6663), (2, 6664), (1, 6665), (1, 6666), (1, 6667), (1, 6668), (1, 6669), (1, 6670), (2, 6671), (1, 6672), (1, 6673), (1, 6674), (2, 6675), (1, 6676), (1, 6677), (1, 6678), (1, 6679), (1, 6680), (1, 6681), (1, 6682), (1, 6683), (1, 6684), (1, 6685), (1, 6686), (1, 6687), (1, 6688), (1, 6689), (1, 6690), (1, 6691), (1, 6692), (1, 6693), (1, 6694), (1, 6695), (1, 6696), (1, 6697), (1, 6698), (1, 6699), (1, 6700), (1, 6701), (1, 6702), (1, 6703), (1, 6704), (1, 6705), (1, 6706), (1, 6707), (1, 6708), (1, 6709), (1, 6710), (1, 6711), (1, 6712), (1, 6713), (1, 6714), (2, 6715), (1, 6716), (1, 6717), (1, 6718), (2, 6719), (1, 6720), (2, 6721), (2, 6722), (3, 6723), (2, 6724), (2, 6725), (2, 6726), (1, 6727), (1, 6728), (1, 6729), (1, 6730), (1, 6731), (1, 6732), (1, 6733), (1, 6734), (1, 6735), (1, 6736), (1, 6737), (1, 6738), (1, 6739), (1, 6740), (1, 6741), (1, 6742), (1, 6743), (1, 6744), (1, 6745), (1, 6746), (2, 6747), (1, 6748), (1, 6749), (1, 6750), (1, 6751), (1, 6752), (5, 6753), (1, 6754), (1, 6755), (1, 6756), (1, 6757), (1, 6758), (1, 6759), (1, 6760), (1, 6761), (1, 6762), (1, 6763), (1, 6764), (1, 6765), (1, 6766), (1, 6767), (1, 6768), (1, 6769), (1, 6770), (1, 6771), (1, 6772), (1, 6773), (1, 6774), (1, 6775), (1, 6776), (1, 6777), (1, 6778), (1, 6779), (1, 6780), (1, 6781), (2, 6782), (1, 6783), (1, 6784), (1, 6785), (1, 6786), (1, 6787), (1, 6788), (1, 6789), (1, 6790), (1, 6791), (1, 6792), (1, 6793), (1, 6794), (1, 6795), (1, 6796), (1, 6797), (1, 6798), (1, 6799), (1, 6800), (1, 6801), (1, 6802), (1, 6803), (1, 6804), (1, 6805), (2, 6806), (1, 6807), (1, 6808), (1, 6809), (1, 6810), (1, 6811), (1, 6812), (1, 6813), (1, 6814), (1, 6815), (1, 6816), (1, 6817), (1, 6818), (1, 6819), (2, 6820), (1, 6821), (1, 6822), (1, 6823), (1, 6824), (1, 6825), (1, 6826), (1, 6827), (1, 6828), (1, 6829), (1, 6830), (1, 6831), (1, 6832), (1, 6833), (1, 6834), (1, 6835), (1, 6836), (1, 6837), (1, 6838), (1, 6839), (2, 6840), (1, 6841), (1, 6842), (2, 6843), (2, 6844), (1, 6845), (1, 6846), (1, 6847), (1, 6848), (1, 6849), (1, 6850), (1, 6851), (2, 6852), (1, 6853), (1, 6854), (1, 6855), (1, 6856), (1, 6857), (1, 6858), (1, 6859), (1, 6860), (1, 6861), (1, 6862), (1, 6863), (1, 6864), (1, 6865), (1, 6866), (1, 6867), (1, 6868), (1, 6869), (1, 6870), (3, 6871), (2, 6872), (1, 6873), (1, 6874), (1, 6875), (1, 6876), (1, 6877), (1, 6878), (1, 6879), (1, 6880), (1, 6881), (1, 6882), (2, 6883), (2, 6884), (1, 6885), (1, 6886), (1, 6887), (2, 6888), (1, 6889), (1, 6890), (1, 6891), (1, 6892), (1, 6893), (1, 6894), (1, 6895), (1, 6896), (5, 6897), (1, 6898), (1, 6899), (1, 6900), (1, 6901), (1, 6902), (2, 6903), (2, 6904), (1, 6905), (1, 6906), (1, 6907), (1, 6908), (1, 6909), (1, 6910), (3, 6911), (1, 6912), (1, 6913), (1, 6914), (1, 6915), (1, 6916), (1, 6917), (1, 6918), (1, 6919), (1, 6920), (1, 6921), (1, 6922), (3, 6923), (1, 6924), (1, 6925), (1, 6926), (1, 6927), (1, 6928), (3, 6929), (1, 6930), (1, 6931), (1, 6932), (2, 6933), (1, 6934), (1, 6935), (1, 6936), (1, 6937), (1, 6938), (1, 6939), (2, 6940), (1, 6941), (1, 6942), (1, 6943), (1, 6944), (1, 6945), (1, 6946), (1, 6947), (5, 6948), (1, 6949), (1, 6950), (1, 6951), (1, 6952), (1, 6953), (1, 6954), (1, 6955), (1, 6956), (1, 6957), (1, 6958), (1, 6959), (1, 6960), (1, 6961), (1, 6962), (1, 6963), (1, 6964), (1, 6965), (1, 6966), (1, 6967), (3, 6968), (1, 6969), (1, 6970), (1, 6971), (1, 6972), (1, 6973), (1, 6974), (2, 6975), (1, 6976), (1, 6977), (1, 6978), (2, 6979), (1, 6980), (1, 6981), (1, 6982), (1, 6983), (1, 6984), (1, 6985), (2, 6986), (1, 6987), (1, 6988), (1, 6989), (1, 6990), (1, 6991), (5, 6992), (1, 6993), (2, 6994), (1, 6995), (1, 6996), (1, 6997), (1, 6998), (1, 6999), (1, 7000), (1, 7001), (1, 7002), (1, 7003), (2, 7004), (1, 7005), (1, 7006), (1, 7007), (1, 7008), (1, 7009), (1, 7010), (1, 7011), (1, 7012), (1, 7013), (1, 7014), (1, 7015), (1, 7016), (1, 7017), (3, 7018), (1, 7019), (1, 7020), (3, 7021), (1, 7022), (1, 7023), (1, 7024), (1, 7025), (1, 7026), (1, 7027), (1, 7028), (1, 7029), (1, 7030), (1, 7031), (1, 7032), (1, 7033), (1, 7034), (1, 7035), (1, 7036), (1, 7037), (1, 7038), (1, 7039), (1, 7040), (1, 7041), (1, 7042), (1, 7043), (1, 7044), (1, 7045), (1, 7046), (1, 7047), (5, 7048), (1, 7049), (1, 7050), (1, 7051), (1, 7052), (1, 7053), (1, 7054), (1, 7055), (1, 7056), (1, 7057), (2, 7058), (1, 7059), (1, 7060), (1, 7061), (1, 7062), (1, 7063), (1, 7064), (1, 7065), (1, 7066), (2, 7067), (1, 7068), (1, 7069), (1, 7070), (2, 7071), (1, 7072), (1, 7073), (1, 7074), (1, 7075), (1, 7076), (1, 7077), (1, 7078), (1, 7079), (1, 7080), (2, 7081), (1, 7082), (1, 7083), (1, 7084), (1, 7085), (1, 7086), (1, 7087), (2, 7088), (1, 7089), (2, 7090), (1, 7091), (1, 7092), (1, 7093), (2, 7094), (1, 7095), (1, 7096), (1, 7097), (1, 7098), (1, 7099), (1, 7100), (1, 7101), (1, 7102), (1, 7103), (1, 7104), (1, 7105), (3, 7106), (1, 7107), (1, 7108), (1, 7109), (1, 7110), (1, 7111), (2, 7112), (1, 7113), (1, 7114), (1, 7115), (1, 7116), (1, 7117), (1, 7118), (1, 7119), (2, 7120), (1, 7121), (1, 7122), (1, 7123), (1, 7124), (1, 7125), (2, 7126), (1, 7127), (1, 7128), (1, 7129), (1, 7130), (1, 7131), (1, 7132), (1, 7133), (1, 7134), (1, 7135), (1, 7136), (3, 7137), (1, 7138), (1, 7139), (1, 7140), (2, 7141), (1, 7142), (1, 7143), (1, 7144), (1, 7145), (1, 7146), (2, 7147), (1, 7148), (3, 7149), (1, 7150), (1, 7151), (2, 7152), (1, 7153), (1, 7154), (1, 7155), (1, 7156), (1, 7157), (1, 7158), (1, 7159), (1, 7160), (1, 7161), (1, 7162), (1, 7163), (1, 7164), (1, 7165), (1, 7166), (1, 7167), (7, 7168), (3, 7169), (7, 7170), (7, 7171), (3, 7172), (7, 7173), (7, 7174), (5, 7175), (7, 7176), (3, 7177), (7, 7178), (5, 7179), (7, 7180), (7, 7181), (7, 7182), (7, 7183), (7, 7184), (7, 7185), (7, 7186), (2, 7187), (3, 7188), (7, 7189), (7, 7190), (7, 7191), (2, 7192), (7, 7193), (7, 7194), (7, 7195), (7, 7196), (7, 7197), (7, 7198), (7, 7199), (7, 7200), (7, 7201), (7, 7202), (7, 7203), (7, 7204), (7, 7205), (7, 7206), (7, 7207), (7, 7208), (7, 7209), (7, 7210), (7, 7211), (3, 7212), (7, 7213), (7, 7214), (7, 7215), (7, 7216), (7, 7217), (7, 7218), (5, 7219), (7, 7220), (7, 7221), (7, 7222), (7, 7223), (3, 7224), (7, 7225), (7, 7226), (7, 7227), (7, 7228), (3, 7229), (7, 7230), (7, 7231), (7, 7232), (7, 7233), (7, 7234), (3, 7235), (7, 7236), (7, 7237), (7, 7238), (7, 7239), (7, 7240), (7, 7241), (3, 7242), (7, 7243), (7, 7244), (7, 7245), (7, 7246), (7, 7247), (5, 7248), (2, 7249), (7, 7250), (7, 7251), (7, 7252), (7, 7253), (7, 7254), (7, 7255), (7, 7256), (3, 7257), (7, 7258), (7, 7259), (7, 7260), (7, 7261), (7, 7262), (5, 7263), (7, 7264), (7, 7265), (7, 7266), (7, 7267), (7, 7268), (7, 7269), (7, 7270), (5, 7271), (7, 7272), (3, 7273), (7, 7274), (7, 7275), (7, 7276), (7, 7277), (7, 7278), (7, 7279), (7, 7280), (7, 7281), (7, 7282), (7, 7283), (7, 7284), (7, 7285), (2, 7286), (7, 7287), (7, 7288), (7, 7289), (3, 7290), (7, 7291), (2, 7292), (7, 7293), (7, 7294), (7, 7295), (7, 7296), (5, 7297), (7, 7298), (7, 7299), (1, 7300), (7, 7301), (7, 7302), (7, 7303), (7, 7304), (7, 7305), (7, 7306), (1, 7307), (7, 7308), (7, 7309), (7, 7310), (3, 7311), (7, 7312), (7, 7313), (1, 7314), (7, 7315), (7, 7316), (7, 7317), (7, 7318), (7, 7319), (7, 7320), (7, 7321), (3, 7322), (7, 7323), (3, 7324), (7, 7325), (5, 7326), (7, 7327), (7, 7328), (7, 7329), (5, 7330), (7, 7331), (7, 7332), (7, 7333), (2, 7334), (3, 7335), (3, 7336), (7, 7337), (7, 7338), (7, 7339), (7, 7340), (7, 7341), (7, 7342), (7, 7343), (7, 7344), (5, 7345), (7, 7346), (7, 7347), (7, 7348), (7, 7349), (7, 7350), (7, 7351), (7, 7352), (7, 7353), (7, 7354), (3, 7355), (7, 7356), (7, 7357), (3, 7358), (7, 7359), (5, 7360), (7, 7361), (2, 7362), (2, 7363), (7, 7364), (7, 7365), (7, 7366), (7, 7367), (7, 7368), (7, 7369), (3, 7370), (7, 7371), (7, 7372), (3, 7373), (3, 7374), (7, 7375), (7, 7376), (7, 7377), (7, 7378), (7, 7379), (3, 7380), (7, 7381), (3, 7382), (7, 7383), (7, 7384), (7, 7385), (7, 7386), (7, 7387), (7, 7388), (7, 7389), (7, 7390), (7, 7391), (7, 7392), (2, 7393), (7, 7394), (5, 7395), (7, 7396), (7, 7397), (7, 7398), (7, 7399), (7, 7400), (7, 7401), (7, 7402), (2, 7403), (7, 7404), (7, 7405), (7, 7406), (7, 7407), (7, 7408), (3, 7409), (7, 7410), (7, 7411), (5, 7412), (7, 7413), (3, 7414), (7, 7415), (7, 7416), (2, 7417), (3, 7418), (3, 7419), (7, 7420), (7, 7421), (7, 7422), (7, 7423), (7, 7424), (7, 7425), (7, 7426), (7, 7427), (7, 7428), (5, 7429), (7, 7430), (7, 7431), (7, 7432), (7, 7433), (7, 7434), (7, 7435), (3, 7436), (7, 7437), (7, 7438), (3, 7439), (7, 7440), (3, 7441), (7, 7442), (7, 7443), (7, 7444), (3, 7445), (2, 7446), (7, 7447), (7, 7448), (7, 7449), (7, 7450), (7, 7451), (7, 7452), (1, 7453), (3, 7454), (7, 7455), (7, 7456), (7, 7457), (7, 7458), (5, 7459), (7, 7460), (7, 7461), (7, 7462), (2, 7463), (7, 7464), (7, 7465), (7, 7466), (7, 7467), (7, 7468), (7, 7469), (7, 7470), (7, 7471), (3, 7472), (3, 7473), (7, 7474), (7, 7475), (7, 7476), (7, 7477), (7, 7478), (7, 7479), (7, 7480), (7, 7481), (7, 7482), (7, 7483), (7, 7484), (5, 7485), (7, 7486), (7, 7487), (7, 7488), (7, 7489), (2, 7490), (7, 7491), (7, 7492), (7, 7493), (7, 7494), (3, 7495), (7, 7496), (7, 7497), (7, 7498), (7, 7499), (3, 7500), (7, 7501), (2, 7502), (2, 7503), (5, 7504), (7, 7505), (7, 7506), (7, 7507), (7, 7508), (7, 7509), (5, 7510), (7, 7511), (3, 7512), (7, 7513), (7, 7514), (7, 7515), (7, 7516), (2, 7517), (5, 7518), (3, 7519), (5, 7520), (7, 7521), (3, 7522), (7, 7523), (1, 7524), (7, 7525), (2, 7526), (2, 7527), (7, 7528), (3, 7529), (7, 7530), (2, 7531), (5, 7532), (7, 7533), (7, 7534), (2, 7535), (5, 7536), (7, 7537), (2, 7538), (7, 7539), (2, 7540), (2, 7541), (3, 7542), (7, 7543), (2, 7544), (3, 7545), (7, 7546), (7, 7547), (7, 7548), (7, 7549), (5, 7550), (7, 7551), (7, 7552), (7, 7553), (5, 7554), (7, 7555), (2, 7556), (3, 7557), (4, 7558), (3, 7559), (7, 7560), (7, 7561), (5, 7562), (5, 7563), (5, 7564), (5, 7565), (3, 7566), (3, 7567), (3, 7568), (3, 7569), (7, 7570), (3, 7571), (7, 7572), (3, 7573), (2, 7574), (7, 7575), (2, 7576), (5, 7577), (3, 7578), (7, 7579), (5, 7580), (2, 7581), (2, 7582), (7, 7583), (5, 7584), (3, 7585), (3, 7586), (7, 7587), (5, 7588), (3, 7589), (3, 7590), (2, 7591), (3, 7592), (4, 7593), (7, 7594), (4, 7595), (2, 7596), (5, 7597), (7, 7598), (7, 7599), (2, 7600), (7, 7601), (7, 7602), (7, 7603), (7, 7604), (2, 7605), (2, 7606), (7, 7607), (2, 7608), (2, 7609), (2, 7610), (7, 7611), (2, 7612), (2, 7613), (3, 7614), (2, 7615), (7, 7616), (2, 7617), (7, 7618), (2, 7619), (7, 7620), (2, 7621), (7, 7622), (2, 7623), (7, 7624), (2, 7625), (7, 7626), (7, 7627), (7, 7628), (7, 7629), (2, 7630), (2, 7631), (2, 7632), (2, 7633), (7, 7634), (2, 7635), (7, 7636), (7, 7637), (7, 7638), (7, 7639), (7, 7640), (2, 7641), (2, 7642), (2, 7643), (2, 7644), (2, 7645), (3, 7646), (3, 7647), (2, 7648), (2, 7649), (2, 7650), (2, 7651), (2, 7652), (2, 7653), (2, 7654), (2, 7655), (2, 7656), (5, 7657), (2, 7658), (2, 7659), (2, 7660), (2, 7661), (1, 7662), (2, 7663), (2, 7664), (7, 7665), (2, 7666), (2, 7667), (2, 7668), (7, 7669), (2, 7670), (2, 7671), (2, 7672), (4, 7673), (2, 7674), (2, 7675), (7, 7676), (3, 7677), (2, 7678), (1, 7679), (4, 7680), (3, 7681), (2, 7682), (3, 7683), (4, 7684), (3, 7685), (2, 7686), (3, 7687), (2, 7688), (2, 7689), (3, 7690), (2, 7691), (4, 7692), (2, 7693), (2, 7694), (3, 7695), (2, 7696), (3, 7697), (7, 7698), (4, 7699), (3, 7700), (2, 7701), (7, 7702), (3, 7703), (2, 7704), (3, 7705), (4, 7706), (3, 7707), (3, 7708), (7, 7709), (2, 7710), (3, 7711), (4, 7712), (2, 7713), (3, 7714), (2, 7715), (3, 7716), (3, 7717), (3, 7718), (7, 7719), (3, 7720), (2, 7721), (1, 7722), (3, 7723), (2, 7724), (2, 7725), (3, 7726), (5, 7727), (3, 7728), (3, 7729), (2, 7730), (2, 7731), (4, 7732), (4, 7733), (1, 7734), (3, 7735), (2, 7736), (7, 7737), (2, 7738), (1, 7739), (2, 7740), (7, 7741), (3, 7742), (7, 7743), (2, 7744), (3, 7745), (7, 7746), (3, 7747), (5, 7748), (4, 7749), (2, 7750), (3, 7751), (1, 7752), (7, 7753), (2, 7754), (2, 7755), (2, 7756), (2, 7757), (1, 7758), (7, 7759), (7, 7760), (7, 7761), (7, 7762), (3, 7763), (2, 7764), (7, 7765), (7, 7766), (7, 7767), (3, 7768), (7, 7769), (7, 7770), (5, 7771), (2, 7772), (4, 7773), (7, 7774), (7, 7775), (2, 7776), (3, 7777), (3, 7778), (7, 7779), (7, 7780), (3, 7781), (7, 7782), (2, 7783), (7, 7784), (7, 7785), (7, 7786), (7, 7787), (7, 7788), (7, 7789), (7, 7790), (7, 7791), (7, 7792), (4, 7793), (7, 7794), (7, 7795), (7, 7796), (7, 7797), (7, 7798), (7, 7799), (7, 7800), (7, 7801), (7, 7802), (7, 7803), (7, 7804), (4, 7805), (7, 7806), (7, 7807), (7, 7808), (7, 7809), (7, 7810), (7, 7811), (7, 7812), (7, 7813), (7, 7814), (2, 7815), (3, 7816), (7, 7817), (3, 7818), (7, 7819), (4, 7820), (7, 7821), (2, 7822), (2, 7823), (4, 7824), (3, 7825), (7, 7826), (7, 7827), (3, 7828), (7, 7829), (7, 7830), (7, 7831), (7, 7832), (3, 7833), (3, 7834), (5, 7835), (7, 7836), (7, 7837), (4, 7838), (7, 7839), (7, 7840), (4, 7841), (7, 7842), (7, 7843), (7, 7844), (4, 7845), (7, 7846), (7, 7847), (7, 7848), (7, 7849), (7, 7850), (7, 7851), (7, 7852), (7, 7853), (7, 7854), (2, 7855), (7, 7856), (7, 7857), (7, 7858), (7, 7859), (7, 7860), (3, 7861), (7, 7862), (7, 7863), (7, 7864), (2, 7865), (7, 7866), (7, 7867), (7, 7868), (7, 7869), (7, 7870), (7, 7871), (7, 7872), (7, 7873), (2, 7874), (7, 7875), (7, 7876), (7, 7877), (7, 7878), (7, 7879), (7, 7880), (7, 7881), (3, 7882), (7, 7883), (4, 7884), (7, 7885), (7, 7886), (2, 7887), (7, 7888), (7, 7889), (3, 7890), (7, 7891), (7, 7892), (7, 7893), (2, 7894), (7, 7895), (7, 7896), (7, 7897), (7, 7898), (7, 7899), (7, 7900), (3, 7901), (7, 7902), (7, 7903), (7, 7904), (3, 7905), (7, 7906), (7, 7907), (2, 7908), (2, 7909), (7, 7910), (3, 7911), (2, 7912), (7, 7913), (2, 7914), (7, 7915), (2, 7916), (7, 7917), (7, 7918), (7, 7919), (7, 7920), (7, 7921), (7, 7922), (7, 7923), (2, 7924), (1, 7925), (7, 7926), (7, 7927), (7, 7928), (7, 7929), (2, 7930), (7, 7931), (7, 7932), (7, 7933), (7, 7934), (3, 7935), (7, 7936), (7, 7937), (7, 7938), (7, 7939), (7, 7940), (2, 7941), (7, 7942), (7, 7943), (2, 7944), (7, 7945), (4, 7946), (7, 7947), (3, 7948), (2, 7949), (7, 7950), (7, 7951), (7, 7952), (3, 7953), (2, 7954), (7, 7955), (7, 7956), (7, 7957), (2, 7958), (7, 7959), (2, 7960), (3, 7961), (7, 7962), (7, 7963), (7, 7964), (2, 7965), (7, 7966), (7, 7967), (7, 7968), (2, 7969), (7, 7970), (7, 7971), (7, 7972), (7, 7973), (3, 7974), (7, 7975), (7, 7976), (1, 7977), (4, 7978), (2, 7979), (4, 7980), (2, 7981), (2, 7982), (3, 7983), (3, 7984), (1, 7985), (3, 7986), (3, 7987), (2, 7988), (4, 7989), (3, 7990), (2, 7991), (4, 7992), (2, 7993), (2, 7994), (4, 7995), (2, 7996), (2, 7997), (2, 7998), (2, 7999), (2, 8000), (3, 8001), (2, 8002), (2, 8003), (2, 8004), (2, 8005), (2, 8006), (4, 8007), (2, 8008), (2, 8009), (2, 8010), (2, 8011), (2, 8012), (2, 8013), (3, 8014), (2, 8015), (2, 8016), (2, 8017), (2, 8018), (2, 8019), (2, 8020), (3, 8021), (2, 8022), (2, 8023), (4, 8024), (2, 8025), (2, 8026), (2, 8027), (3, 8028), (2, 8029), (2, 8030), (3, 8031), (2, 8032), (4, 8033), (3, 8034), (3, 8035), (2, 8036), (3, 8037), (4, 8038), (2, 8039), (4, 8040), (2, 8041), (2, 8042), (2, 8043), (2, 8044), (3, 8045), (3, 8046), (2, 8047), (2, 8048), (2, 8049), (2, 8050), (2, 8051), (2, 8052), (2, 8053), (2, 8054), (3, 8055), (2, 8056), (2, 8057), (4, 8058), (2, 8059), (2, 8060), (1, 8061), (4, 8062), (3, 8063), (2, 8064), (2, 8065), (1, 8066), (2, 8067), (2, 8068), (2, 8069), (3, 8070), (2, 8071), (2, 8072), (2, 8073), (4, 8074), (2, 8075), (2, 8076), (2, 8077), (2, 8078), (2, 8079), (5, 8080), (2, 8081), (3, 8082), (2, 8083), (4, 8084), (2, 8085), (2, 8086), (2, 8087), (2, 8088), (2, 8089), (2, 8090), (2, 8091), (2, 8092), (2, 8093), (1, 8094), (2, 8095), (2, 8096), (2, 8097), (2, 8098), (1, 8099), (2, 8100), (4, 8101), (1, 8102), (2, 8103), (1, 8104), (1, 8105), (2, 8106), (2, 8107), (1, 8108), (1, 8109), (1, 8110), (1, 8111), (2, 8112), (2, 8113), (2, 8114), (1, 8115), (1, 8116), (2, 8117), (1, 8118), (1, 8119), (1, 8120), (2, 8121), (4, 8122), (1, 8123), (2, 8124), (1, 8125), (1, 8126), (2, 8127), (1, 8128), (2, 8129), (1, 8130), (1, 8131), (1, 8132), (2, 8133), (2, 8134), (1, 8135), (1, 8136), (1, 8137), (1, 8138), (1, 8139), (2, 8140), (1, 8141), (1, 8142), (1, 8143), (1, 8144), (1, 8145), (1, 8146), (1, 8147), (1, 8148), (1, 8149), (1, 8150), (1, 8151), (4, 8152), (2, 8153), (1, 8154), (1, 8155), (1, 8156), (2, 8157), (2, 8158), (2, 8159), (2, 8160), (1, 8161), (2, 8162), (2, 8163), (2, 8164), (2, 8165), (2, 8166), (2, 8167), (2, 8168), (3, 8169), (1, 8170), (2, 8171), (2, 8172), (1, 8173), (2, 8174), (1, 8175), (2, 8176), (2, 8177), (2, 8178), (2, 8179), (2, 8180), (3, 8181), (3, 8182), (2, 8183), (5, 8184), (1, 8185), (1, 8186), (2, 8187), (5, 8188), (1, 8189), (2, 8190), (1, 8191), (4, 8192), (2, 8193), (3, 8194), (1, 8195), (1, 8196), (1, 8197), (1, 8198), (1, 8199), (5, 8200), (1, 8201), (1, 8202), (2, 8203), (1, 8204), (1, 8205), (1, 8206), (1, 8207), (1, 8208), (2, 8209), (2, 8210), (1, 8211), (1, 8212), (1, 8213), (1, 8214), (1, 8215), (1, 8216), (1, 8217), (1, 8218), (1, 8219), (1, 8220), (1, 8221), (1, 8222), (1, 8223), (2, 8224), (1, 8225), (1, 8226), (5, 8227), (1, 8228), (1, 8229), (1, 8230), (1, 8231), (1, 8232), (1, 8233), (1, 8234), (1, 8235), (1, 8236), (1, 8237), (1, 8238), (1, 8239), (1, 8240), (1, 8241), (2, 8242), (2, 8243), (1, 8244), (1, 8245), (7, 8246), (7, 8247), (1, 8248), (1, 8249), (1, 8250), (1, 8251), (1, 8252), (1, 8253), (1, 8254), (1, 8255), (6, 8256), (7, 8257), (1, 8258), (1, 8259), (1, 8260), (1, 8261), (5, 8262), (3, 8263), (1, 8264), (7, 8265), (1, 8266), (1, 8267), (1, 8268), (7, 8269), (1, 8270), (1, 8271), (7, 8272), (7, 8273), (1, 8274), (1, 8275), (1, 8276), (7, 8277), (1, 8278), (1, 8279), (1, 8280), (1, 8281), (7, 8282), (1, 8283), (1, 8284), (1, 8285), (1, 8286), (1, 8287), (7, 8288), (1, 8289), (7, 8290), (1, 8291), (7, 8292), (1, 8293), (1, 8294), (1, 8295), (1, 8296), (1, 8297), (1, 8298), (1, 8299), (1, 8300), (1, 8301), (1, 8302), (1, 8303), (1, 8304), (1, 8305), (1, 8306), (1, 8307), (7, 8308), (2, 8309), (1, 8310), (6, 8311), (7, 8312), (2, 8313), (1, 8314), (1, 8315), (1, 8316), (7, 8317), (7, 8318), (1, 8319), (1, 8320), (1, 8321), (7, 8322), (1, 8323), (1, 8324), (1, 8325), (1, 8326), (1, 8327), (7, 8328), (1, 8329), (1, 8330), (1, 8331), (1, 8332), (7, 8333), (1, 8334), (1, 8335), (1, 8336), (1, 8337), (1, 8338), (1, 8339), (1, 8340), (3, 8341), (1, 8342), (7, 8343), (7, 8344), (7, 8345), (7, 8346), (1, 8347), (6, 8348), (7, 8349), (1, 8350), (1, 8351), (1, 8352), (1, 8353), (1, 8354), (7, 8355), (1, 8356), (1, 8357), (1, 8358), (1, 8359), (1, 8360), (2, 8361), (7, 8362), (7, 8363), (7, 8364), (7, 8365), (7, 8366), (7, 8367), (7, 8368), (7, 8369), (7, 8370), (7, 8371), (1, 8372), (1, 8373), (1, 8374), (1, 8375), (1, 8376), (7, 8377), (1, 8378), (1, 8379), (7, 8380), (6, 8381), (1, 8382), (1, 8383), (7, 8384), (7, 8385), (1, 8386), (1, 8387), (1, 8388), (1, 8389), (1, 8390), (1, 8391), (1, 8392), (1, 8393), (7, 8394), (1, 8395), (7, 8396), (1, 8397), (1, 8398), (1, 8399), (1, 8400), (1, 8401), (1, 8402), (1, 8403), (1, 8404), (2, 8405), (1, 8406), (7, 8407), (1, 8408), (1, 8409), (1, 8410), (2, 8411), (6, 8412), (7, 8413), (7, 8414), (1, 8415), (7, 8416), (7, 8417), (1, 8418), (1, 8419), (1, 8420), (1, 8421), (7, 8422), (1, 8423), (7, 8424), (1, 8425), (7, 8426), (1, 8427), (1, 8428), (7, 8429), (1, 8430), (1, 8431), (1, 8432), (7, 8433), (1, 8434), (2, 8435), (1, 8436), (1, 8437), (1, 8438), (1, 8439), (1, 8440), (1, 8441), (1, 8442), (1, 8443), (7, 8444), (1, 8445), (1, 8446), (1, 8447), (1, 8448), (1, 8449), (1, 8450), (1, 8451), (1, 8452), (7, 8453), (1, 8454), (7, 8455), (1, 8456), (1, 8457), (7, 8458), (1, 8459), (7, 8460), (1, 8461), (1, 8462), (1, 8463), (1, 8464), (1, 8465), (1, 8466), (1, 8467), (1, 8468), (1, 8469), (1, 8470), (7, 8471), (1, 8472), (1, 8473), (7, 8474), (7, 8475), (1, 8476), (1, 8477), (1, 8478), (1, 8479), (1, 8480), (7, 8481), (1, 8482), (1, 8483), (2, 8484), (2, 8485), (1, 8486), (1, 8487), (1, 8488), (1, 8489), (1, 8490), (1, 8491), (7, 8492), (1, 8493), (3, 8494), (7, 8495), (1, 8496), (1, 8497), (7, 8498), (7, 8499), (1, 8500), (1, 8501), (7, 8502), (7, 8503), (2, 8504), (1, 8505), (1, 8506), (7, 8507), (1, 8508), (2, 8509), (2, 8510), (2, 8511), (2, 8512), (2, 8513), (1, 8514), (1, 8515), (1, 8516), (1, 8517), (1, 8518), (7, 8519), (7, 8520), (1, 8521), (1, 8522), (7, 8523), (1, 8524), (7, 8525), (7, 8526), (1, 8527), (1, 8528), (7, 8529), (1, 8530), (1, 8531), (1, 8532), (1, 8533), (7, 8534), (1, 8535), (6, 8536), (2, 8537), (1, 8538), (1, 8539), (7, 8540), (6, 8541), (7, 8542), (1, 8543), (7, 8544), (1, 8545), (7, 8546), (1, 8547), (1, 8548), (1, 8549), (1, 8550), (2, 8551), (1, 8552), (1, 8553), (1, 8554), (1, 8555), (1, 8556), (1, 8557), (3, 8558), (1, 8559), (6, 8560), (1, 8561), (1, 8562), (2, 8563), (7, 8564), (1, 8565), (1, 8566), (1, 8567), (7, 8568), (7, 8569), (2, 8570), (1, 8571), (7, 8572), (1, 8573), (1, 8574), (1, 8575), (7, 8576), (7, 8577), (7, 8578), (1, 8579)]\n"
     ]
    }
   ],
   "source": [
    "print sorted_by_second"
   ]
  },
  {
   "cell_type": "code",
   "execution_count": 128,
   "metadata": {},
   "outputs": [],
   "source": [
    "f = open('format.dat', 'w')\n",
    "for item in sorted_by_second:\n",
    "    f.write(str(item[0])+'\\n')\n",
    "f.close()"
   ]
  },
  {
   "cell_type": "code",
   "execution_count": null,
   "metadata": {
    "collapsed": true
   },
   "outputs": [],
   "source": []
  }
 ],
 "metadata": {
  "kernelspec": {
   "display_name": "Python 2",
   "language": "python",
   "name": "python2"
  },
  "language_info": {
   "codemirror_mode": {
    "name": "ipython",
    "version": 2
   },
   "file_extension": ".py",
   "mimetype": "text/x-python",
   "name": "python",
   "nbconvert_exporter": "python",
   "pygments_lexer": "ipython2",
   "version": "2.7.13"
  }
 },
 "nbformat": 4,
 "nbformat_minor": 2
}
